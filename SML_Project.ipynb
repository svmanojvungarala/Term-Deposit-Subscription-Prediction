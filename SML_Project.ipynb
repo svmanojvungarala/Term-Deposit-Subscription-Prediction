{
 "cells": [
  {
   "cell_type": "markdown",
   "id": "932525f5",
   "metadata": {
    "id": "932525f5"
   },
   "source": [
    "# Term Deposit Subscription Prediction"
   ]
  },
  {
   "cell_type": "markdown",
   "id": "0450d4bf",
   "metadata": {
    "id": "0450d4bf"
   },
   "source": [
    "## 1. Data Pre-processing"
   ]
  },
  {
   "cell_type": "code",
   "execution_count": 2,
   "id": "3BZ_0n4LqR8H",
   "metadata": {
    "colab": {
     "base_uri": "https://localhost:8080/"
    },
    "id": "3BZ_0n4LqR8H",
    "outputId": "e34555d8-f263-463b-a42f-25a435a71c12"
   },
   "outputs": [
    {
     "name": "stdout",
     "output_type": "stream",
     "text": [
      "Collecting category_encoders\n",
      "  Downloading category_encoders-2.3.0-py2.py3-none-any.whl (82 kB)\n",
      "\u001b[?25l\r\n",
      "\u001b[K     |████                            | 10 kB 25.5 MB/s eta 0:00:01\r\n",
      "\u001b[K     |████████                        | 20 kB 21.4 MB/s eta 0:00:01\r\n",
      "\u001b[K     |████████████                    | 30 kB 10.9 MB/s eta 0:00:01\r\n",
      "\u001b[K     |████████████████                | 40 kB 8.9 MB/s eta 0:00:01\r\n",
      "\u001b[K     |████████████████████            | 51 kB 5.0 MB/s eta 0:00:01\r\n",
      "\u001b[K     |████████████████████████        | 61 kB 5.5 MB/s eta 0:00:01\r\n",
      "\u001b[K     |████████████████████████████    | 71 kB 5.9 MB/s eta 0:00:01\r\n",
      "\u001b[K     |███████████████████████████████▉| 81 kB 6.6 MB/s eta 0:00:01\r\n",
      "\u001b[K     |████████████████████████████████| 82 kB 377 kB/s \n",
      "\u001b[?25hRequirement already satisfied: statsmodels>=0.9.0 in /usr/local/lib/python3.7/dist-packages (from category_encoders) (0.10.2)\n",
      "Requirement already satisfied: scikit-learn>=0.20.0 in /usr/local/lib/python3.7/dist-packages (from category_encoders) (1.0.1)\n",
      "Requirement already satisfied: pandas>=0.21.1 in /usr/local/lib/python3.7/dist-packages (from category_encoders) (1.1.5)\n",
      "Requirement already satisfied: numpy>=1.14.0 in /usr/local/lib/python3.7/dist-packages (from category_encoders) (1.19.5)\n",
      "Requirement already satisfied: scipy>=1.0.0 in /usr/local/lib/python3.7/dist-packages (from category_encoders) (1.4.1)\n",
      "Requirement already satisfied: patsy>=0.5.1 in /usr/local/lib/python3.7/dist-packages (from category_encoders) (0.5.2)\n",
      "Requirement already satisfied: python-dateutil>=2.7.3 in /usr/local/lib/python3.7/dist-packages (from pandas>=0.21.1->category_encoders) (2.8.2)\n",
      "Requirement already satisfied: pytz>=2017.2 in /usr/local/lib/python3.7/dist-packages (from pandas>=0.21.1->category_encoders) (2018.9)\n",
      "Requirement already satisfied: six in /usr/local/lib/python3.7/dist-packages (from patsy>=0.5.1->category_encoders) (1.15.0)\n",
      "Requirement already satisfied: threadpoolctl>=2.0.0 in /usr/local/lib/python3.7/dist-packages (from scikit-learn>=0.20.0->category_encoders) (3.0.0)\n",
      "Requirement already satisfied: joblib>=0.11 in /usr/local/lib/python3.7/dist-packages (from scikit-learn>=0.20.0->category_encoders) (1.1.0)\n",
      "Installing collected packages: category-encoders\n",
      "Successfully installed category-encoders-2.3.0\n"
     ]
    }
   ],
   "source": [
    "!pip install category_encoders"
   ]
  },
  {
   "cell_type": "code",
   "execution_count": 1,
   "id": "35b1b7e5",
   "metadata": {},
   "outputs": [
    {
     "name": "stdout",
     "output_type": "stream",
     "text": [
      "Requirement already satisfied: imbalanced-learn in /opt/anaconda3/lib/python3.8/site-packages (0.8.1)\n",
      "Requirement already satisfied: scipy>=0.19.1 in /opt/anaconda3/lib/python3.8/site-packages (from imbalanced-learn) (1.6.2)\n",
      "Requirement already satisfied: numpy>=1.13.3 in /opt/anaconda3/lib/python3.8/site-packages (from imbalanced-learn) (1.19.5)\n",
      "Requirement already satisfied: scikit-learn>=0.24 in /opt/anaconda3/lib/python3.8/site-packages (from imbalanced-learn) (0.24.1)\n",
      "Requirement already satisfied: joblib>=0.11 in /opt/anaconda3/lib/python3.8/site-packages (from imbalanced-learn) (1.0.1)\n",
      "Requirement already satisfied: threadpoolctl>=2.0.0 in /opt/anaconda3/lib/python3.8/site-packages (from scikit-learn>=0.24->imbalanced-learn) (2.1.0)\n"
     ]
    }
   ],
   "source": [
    "!pip install imbalanced-learn"
   ]
  },
  {
   "cell_type": "code",
   "execution_count": 52,
   "id": "a117bd6b",
   "metadata": {},
   "outputs": [],
   "source": [
    "# Importing the required libraries\n",
    "import pandas as pd\n",
    "import numpy as np\n",
    "import seaborn as sns\n",
    "import category_encoders as ce\n",
    "from sklearn.model_selection import train_test_split, GridSearchCV\n",
    "from sklearn.metrics import roc_curve, roc_auc_score, auc, confusion_matrix, classification_report,accuracy_score, log_loss,precision_score, f1_score\n",
    "from sklearn.tree import DecisionTreeClassifier\n",
    "from sklearn.ensemble import RandomForestClassifier, GradientBoostingClassifier\n",
    "from sklearn.naive_bayes import GaussianNB\n",
    "from sklearn.linear_model import LogisticRegression\n",
    "from imblearn.over_sampling import SMOTE\n",
    "from sklearn.preprocessing import StandardScaler\n",
    "from sklearn.utils.class_weight import compute_class_weight\n",
    "import matplotlib.pyplot as plt\n",
    "%matplotlib inline"
   ]
  },
  {
   "cell_type": "code",
   "execution_count": 7,
   "id": "e1017cc2",
   "metadata": {
    "id": "e1017cc2"
   },
   "outputs": [],
   "source": [
    "# Reading the csv file\n",
    "df = pd.read_csv(\"bank-full.csv\",sep=';')"
   ]
  },
  {
   "cell_type": "code",
   "execution_count": 8,
   "id": "f5b1be9d",
   "metadata": {
    "colab": {
     "base_uri": "https://localhost:8080/",
     "height": 444
    },
    "id": "f5b1be9d",
    "outputId": "dbf1fb26-ffd1-476a-e392-2a51063b4f48"
   },
   "outputs": [
    {
     "data": {
      "text/html": [
       "<div>\n",
       "<style scoped>\n",
       "    .dataframe tbody tr th:only-of-type {\n",
       "        vertical-align: middle;\n",
       "    }\n",
       "\n",
       "    .dataframe tbody tr th {\n",
       "        vertical-align: top;\n",
       "    }\n",
       "\n",
       "    .dataframe thead th {\n",
       "        text-align: right;\n",
       "    }\n",
       "</style>\n",
       "<table border=\"1\" class=\"dataframe\">\n",
       "  <thead>\n",
       "    <tr style=\"text-align: right;\">\n",
       "      <th></th>\n",
       "      <th>age</th>\n",
       "      <th>job</th>\n",
       "      <th>marital</th>\n",
       "      <th>education</th>\n",
       "      <th>default</th>\n",
       "      <th>balance</th>\n",
       "      <th>housing</th>\n",
       "      <th>loan</th>\n",
       "      <th>contact</th>\n",
       "      <th>day</th>\n",
       "      <th>month</th>\n",
       "      <th>duration</th>\n",
       "      <th>campaign</th>\n",
       "      <th>pdays</th>\n",
       "      <th>previous</th>\n",
       "      <th>poutcome</th>\n",
       "      <th>y</th>\n",
       "    </tr>\n",
       "  </thead>\n",
       "  <tbody>\n",
       "    <tr>\n",
       "      <th>0</th>\n",
       "      <td>58</td>\n",
       "      <td>management</td>\n",
       "      <td>married</td>\n",
       "      <td>tertiary</td>\n",
       "      <td>no</td>\n",
       "      <td>2143</td>\n",
       "      <td>yes</td>\n",
       "      <td>no</td>\n",
       "      <td>unknown</td>\n",
       "      <td>5</td>\n",
       "      <td>may</td>\n",
       "      <td>261</td>\n",
       "      <td>1</td>\n",
       "      <td>-1</td>\n",
       "      <td>0</td>\n",
       "      <td>unknown</td>\n",
       "      <td>no</td>\n",
       "    </tr>\n",
       "    <tr>\n",
       "      <th>1</th>\n",
       "      <td>44</td>\n",
       "      <td>technician</td>\n",
       "      <td>single</td>\n",
       "      <td>secondary</td>\n",
       "      <td>no</td>\n",
       "      <td>29</td>\n",
       "      <td>yes</td>\n",
       "      <td>no</td>\n",
       "      <td>unknown</td>\n",
       "      <td>5</td>\n",
       "      <td>may</td>\n",
       "      <td>151</td>\n",
       "      <td>1</td>\n",
       "      <td>-1</td>\n",
       "      <td>0</td>\n",
       "      <td>unknown</td>\n",
       "      <td>no</td>\n",
       "    </tr>\n",
       "    <tr>\n",
       "      <th>2</th>\n",
       "      <td>33</td>\n",
       "      <td>entrepreneur</td>\n",
       "      <td>married</td>\n",
       "      <td>secondary</td>\n",
       "      <td>no</td>\n",
       "      <td>2</td>\n",
       "      <td>yes</td>\n",
       "      <td>yes</td>\n",
       "      <td>unknown</td>\n",
       "      <td>5</td>\n",
       "      <td>may</td>\n",
       "      <td>76</td>\n",
       "      <td>1</td>\n",
       "      <td>-1</td>\n",
       "      <td>0</td>\n",
       "      <td>unknown</td>\n",
       "      <td>no</td>\n",
       "    </tr>\n",
       "    <tr>\n",
       "      <th>3</th>\n",
       "      <td>47</td>\n",
       "      <td>blue-collar</td>\n",
       "      <td>married</td>\n",
       "      <td>unknown</td>\n",
       "      <td>no</td>\n",
       "      <td>1506</td>\n",
       "      <td>yes</td>\n",
       "      <td>no</td>\n",
       "      <td>unknown</td>\n",
       "      <td>5</td>\n",
       "      <td>may</td>\n",
       "      <td>92</td>\n",
       "      <td>1</td>\n",
       "      <td>-1</td>\n",
       "      <td>0</td>\n",
       "      <td>unknown</td>\n",
       "      <td>no</td>\n",
       "    </tr>\n",
       "    <tr>\n",
       "      <th>4</th>\n",
       "      <td>33</td>\n",
       "      <td>unknown</td>\n",
       "      <td>single</td>\n",
       "      <td>unknown</td>\n",
       "      <td>no</td>\n",
       "      <td>1</td>\n",
       "      <td>no</td>\n",
       "      <td>no</td>\n",
       "      <td>unknown</td>\n",
       "      <td>5</td>\n",
       "      <td>may</td>\n",
       "      <td>198</td>\n",
       "      <td>1</td>\n",
       "      <td>-1</td>\n",
       "      <td>0</td>\n",
       "      <td>unknown</td>\n",
       "      <td>no</td>\n",
       "    </tr>\n",
       "    <tr>\n",
       "      <th>...</th>\n",
       "      <td>...</td>\n",
       "      <td>...</td>\n",
       "      <td>...</td>\n",
       "      <td>...</td>\n",
       "      <td>...</td>\n",
       "      <td>...</td>\n",
       "      <td>...</td>\n",
       "      <td>...</td>\n",
       "      <td>...</td>\n",
       "      <td>...</td>\n",
       "      <td>...</td>\n",
       "      <td>...</td>\n",
       "      <td>...</td>\n",
       "      <td>...</td>\n",
       "      <td>...</td>\n",
       "      <td>...</td>\n",
       "      <td>...</td>\n",
       "    </tr>\n",
       "    <tr>\n",
       "      <th>45206</th>\n",
       "      <td>51</td>\n",
       "      <td>technician</td>\n",
       "      <td>married</td>\n",
       "      <td>tertiary</td>\n",
       "      <td>no</td>\n",
       "      <td>825</td>\n",
       "      <td>no</td>\n",
       "      <td>no</td>\n",
       "      <td>cellular</td>\n",
       "      <td>17</td>\n",
       "      <td>nov</td>\n",
       "      <td>977</td>\n",
       "      <td>3</td>\n",
       "      <td>-1</td>\n",
       "      <td>0</td>\n",
       "      <td>unknown</td>\n",
       "      <td>yes</td>\n",
       "    </tr>\n",
       "    <tr>\n",
       "      <th>45207</th>\n",
       "      <td>71</td>\n",
       "      <td>retired</td>\n",
       "      <td>divorced</td>\n",
       "      <td>primary</td>\n",
       "      <td>no</td>\n",
       "      <td>1729</td>\n",
       "      <td>no</td>\n",
       "      <td>no</td>\n",
       "      <td>cellular</td>\n",
       "      <td>17</td>\n",
       "      <td>nov</td>\n",
       "      <td>456</td>\n",
       "      <td>2</td>\n",
       "      <td>-1</td>\n",
       "      <td>0</td>\n",
       "      <td>unknown</td>\n",
       "      <td>yes</td>\n",
       "    </tr>\n",
       "    <tr>\n",
       "      <th>45208</th>\n",
       "      <td>72</td>\n",
       "      <td>retired</td>\n",
       "      <td>married</td>\n",
       "      <td>secondary</td>\n",
       "      <td>no</td>\n",
       "      <td>5715</td>\n",
       "      <td>no</td>\n",
       "      <td>no</td>\n",
       "      <td>cellular</td>\n",
       "      <td>17</td>\n",
       "      <td>nov</td>\n",
       "      <td>1127</td>\n",
       "      <td>5</td>\n",
       "      <td>184</td>\n",
       "      <td>3</td>\n",
       "      <td>success</td>\n",
       "      <td>yes</td>\n",
       "    </tr>\n",
       "    <tr>\n",
       "      <th>45209</th>\n",
       "      <td>57</td>\n",
       "      <td>blue-collar</td>\n",
       "      <td>married</td>\n",
       "      <td>secondary</td>\n",
       "      <td>no</td>\n",
       "      <td>668</td>\n",
       "      <td>no</td>\n",
       "      <td>no</td>\n",
       "      <td>telephone</td>\n",
       "      <td>17</td>\n",
       "      <td>nov</td>\n",
       "      <td>508</td>\n",
       "      <td>4</td>\n",
       "      <td>-1</td>\n",
       "      <td>0</td>\n",
       "      <td>unknown</td>\n",
       "      <td>no</td>\n",
       "    </tr>\n",
       "    <tr>\n",
       "      <th>45210</th>\n",
       "      <td>37</td>\n",
       "      <td>entrepreneur</td>\n",
       "      <td>married</td>\n",
       "      <td>secondary</td>\n",
       "      <td>no</td>\n",
       "      <td>2971</td>\n",
       "      <td>no</td>\n",
       "      <td>no</td>\n",
       "      <td>cellular</td>\n",
       "      <td>17</td>\n",
       "      <td>nov</td>\n",
       "      <td>361</td>\n",
       "      <td>2</td>\n",
       "      <td>188</td>\n",
       "      <td>11</td>\n",
       "      <td>other</td>\n",
       "      <td>no</td>\n",
       "    </tr>\n",
       "  </tbody>\n",
       "</table>\n",
       "<p>45211 rows × 17 columns</p>\n",
       "</div>"
      ],
      "text/plain": [
       "       age           job   marital  education default  balance housing loan  \\\n",
       "0       58    management   married   tertiary      no     2143     yes   no   \n",
       "1       44    technician    single  secondary      no       29     yes   no   \n",
       "2       33  entrepreneur   married  secondary      no        2     yes  yes   \n",
       "3       47   blue-collar   married    unknown      no     1506     yes   no   \n",
       "4       33       unknown    single    unknown      no        1      no   no   \n",
       "...    ...           ...       ...        ...     ...      ...     ...  ...   \n",
       "45206   51    technician   married   tertiary      no      825      no   no   \n",
       "45207   71       retired  divorced    primary      no     1729      no   no   \n",
       "45208   72       retired   married  secondary      no     5715      no   no   \n",
       "45209   57   blue-collar   married  secondary      no      668      no   no   \n",
       "45210   37  entrepreneur   married  secondary      no     2971      no   no   \n",
       "\n",
       "         contact  day month  duration  campaign  pdays  previous poutcome    y  \n",
       "0        unknown    5   may       261         1     -1         0  unknown   no  \n",
       "1        unknown    5   may       151         1     -1         0  unknown   no  \n",
       "2        unknown    5   may        76         1     -1         0  unknown   no  \n",
       "3        unknown    5   may        92         1     -1         0  unknown   no  \n",
       "4        unknown    5   may       198         1     -1         0  unknown   no  \n",
       "...          ...  ...   ...       ...       ...    ...       ...      ...  ...  \n",
       "45206   cellular   17   nov       977         3     -1         0  unknown  yes  \n",
       "45207   cellular   17   nov       456         2     -1         0  unknown  yes  \n",
       "45208   cellular   17   nov      1127         5    184         3  success  yes  \n",
       "45209  telephone   17   nov       508         4     -1         0  unknown   no  \n",
       "45210   cellular   17   nov       361         2    188        11    other   no  \n",
       "\n",
       "[45211 rows x 17 columns]"
      ]
     },
     "execution_count": 8,
     "metadata": {},
     "output_type": "execute_result"
    }
   ],
   "source": [
    "df"
   ]
  },
  {
   "cell_type": "code",
   "execution_count": 9,
   "id": "d0e9f78f",
   "metadata": {
    "colab": {
     "base_uri": "https://localhost:8080/"
    },
    "id": "d0e9f78f",
    "outputId": "8a34af79-a32d-43a2-8628-46d4502279ce"
   },
   "outputs": [
    {
     "data": {
      "text/plain": [
       "age          False\n",
       "job          False\n",
       "marital      False\n",
       "education    False\n",
       "default      False\n",
       "balance      False\n",
       "housing      False\n",
       "loan         False\n",
       "contact      False\n",
       "day          False\n",
       "month        False\n",
       "duration     False\n",
       "campaign     False\n",
       "pdays        False\n",
       "previous     False\n",
       "poutcome     False\n",
       "y            False\n",
       "dtype: bool"
      ]
     },
     "execution_count": 9,
     "metadata": {},
     "output_type": "execute_result"
    }
   ],
   "source": [
    "# Checking for null values\n",
    "df.isnull().any()"
   ]
  },
  {
   "cell_type": "code",
   "execution_count": 10,
   "id": "818e5d16",
   "metadata": {
    "id": "818e5d16"
   },
   "outputs": [],
   "source": [
    "# Replacing yes with 1 and no with 0\n",
    "df.y = df.y.eq('yes').mul(1)\n",
    "df.default = df.default.eq('yes').mul(1)\n",
    "df.housing = df.housing.eq('yes').mul(1)\n",
    "df.loan = df.loan.eq('yes').mul(1)"
   ]
  },
  {
   "cell_type": "markdown",
   "id": "788073d0",
   "metadata": {
    "id": "788073d0"
   },
   "source": [
    "## 2. Ordinal Encoding"
   ]
  },
  {
   "cell_type": "code",
   "execution_count": 11,
   "id": "fcad0a69",
   "metadata": {},
   "outputs": [],
   "source": [
    "# Using Ordinal Encoding to convert categorical columns\n",
    "encoder= ce.OrdinalEncoder(cols=['contact'],return_df=True,\n",
    "                           mapping=[{'col':'contact',\n",
    "'mapping':{'cellular':2, 'telephone':0, 'unknown':1}}])"
   ]
  },
  {
   "cell_type": "code",
   "execution_count": 12,
   "id": "bd318b03",
   "metadata": {},
   "outputs": [],
   "source": [
    "df[['contact']] = encoder.fit_transform(df[['contact']])"
   ]
  },
  {
   "cell_type": "code",
   "execution_count": 13,
   "id": "1e516c80",
   "metadata": {},
   "outputs": [],
   "source": [
    "# Using Ordinal Encoding to convert categorical columns\n",
    "encoder= ce.OrdinalEncoder(cols=['month'],return_df=True,\n",
    "                           mapping=[{'col':'month',\n",
    "'mapping':{'apr':9, 'aug':11, 'dec':1, 'feb':7, 'jan':2, 'jul':10, 'jun':8, 'mar':3, 'may':12,\n",
    "       'nov':6, 'oct':5, 'sep':4}}])"
   ]
  },
  {
   "cell_type": "code",
   "execution_count": 14,
   "id": "f72df161",
   "metadata": {},
   "outputs": [],
   "source": [
    "df[['month']] = encoder.fit_transform(df[['month']])"
   ]
  },
  {
   "cell_type": "code",
   "execution_count": 15,
   "id": "c9f0ddd0",
   "metadata": {
    "id": "c9f0ddd0"
   },
   "outputs": [],
   "source": [
    "# Using Ordinal Encoding to convert categorical columns\n",
    "encoder= ce.OrdinalEncoder(cols=['job'],return_df=True,\n",
    "                           mapping=[{'col':'job',\n",
    "'mapping':{'unemployed':0,'unknown':1,'student':2,'housemaid':3,'blue-collar':4,'technician':5,'services':6,\n",
    "           'retired':7,'admin':8,'self-employed':9,'entrepreneur':10,'management':11}}])"
   ]
  },
  {
   "cell_type": "code",
   "execution_count": 16,
   "id": "37f9ee18",
   "metadata": {
    "id": "37f9ee18"
   },
   "outputs": [],
   "source": [
    "df[['job']] = encoder.fit_transform(df[['job']])"
   ]
  },
  {
   "cell_type": "code",
   "execution_count": 17,
   "id": "e5de5e02",
   "metadata": {
    "id": "e5de5e02"
   },
   "outputs": [],
   "source": [
    "# Using Ordinal Encoding to convert categorical columns\n",
    "encoder= ce.OrdinalEncoder(cols=['marital'],return_df=True,\n",
    "                           mapping=[{'col':'marital',\n",
    "'mapping':{'single':0,'divorced':1,'married':2}}])"
   ]
  },
  {
   "cell_type": "code",
   "execution_count": 18,
   "id": "6754c463",
   "metadata": {
    "id": "6754c463"
   },
   "outputs": [],
   "source": [
    "df[['marital']] = encoder.fit_transform(df[['marital']])"
   ]
  },
  {
   "cell_type": "code",
   "execution_count": 19,
   "id": "d673ded4",
   "metadata": {
    "id": "d673ded4"
   },
   "outputs": [],
   "source": [
    "# Using Ordinal Encoding to convert categorical columns\n",
    "encoder= ce.OrdinalEncoder(cols=['education'],return_df=True,\n",
    "                           mapping=[{'col':'education',\n",
    "'mapping':{'unknown':0,'primary':1,'secondary':2,'tertiary':3}}])"
   ]
  },
  {
   "cell_type": "code",
   "execution_count": 20,
   "id": "93d8779a",
   "metadata": {
    "id": "93d8779a"
   },
   "outputs": [],
   "source": [
    "df[['education']] = encoder.fit_transform(df[['education']])"
   ]
  },
  {
   "cell_type": "code",
   "execution_count": 21,
   "id": "be875de3",
   "metadata": {
    "id": "be875de3"
   },
   "outputs": [],
   "source": [
    "# Using Ordinal Encoding to convert categorical columns\n",
    "encoder= ce.OrdinalEncoder(cols=['poutcome'],return_df=True,\n",
    "                           mapping=[{'col':'poutcome',\n",
    "'mapping':{'failure':0,'other':1,'unknown':2,'success':3}}])"
   ]
  },
  {
   "cell_type": "code",
   "execution_count": 22,
   "id": "06cae376",
   "metadata": {
    "id": "06cae376"
   },
   "outputs": [],
   "source": [
    "df[['poutcome']] = encoder.fit_transform(df[['poutcome']])"
   ]
  },
  {
   "cell_type": "code",
   "execution_count": 23,
   "id": "f39f6bc7",
   "metadata": {
    "colab": {
     "base_uri": "https://localhost:8080/",
     "height": 444
    },
    "id": "f39f6bc7",
    "outputId": "e6639792-59f0-4651-d5c7-b277dde9ceaf"
   },
   "outputs": [
    {
     "data": {
      "text/html": [
       "<div>\n",
       "<style scoped>\n",
       "    .dataframe tbody tr th:only-of-type {\n",
       "        vertical-align: middle;\n",
       "    }\n",
       "\n",
       "    .dataframe tbody tr th {\n",
       "        vertical-align: top;\n",
       "    }\n",
       "\n",
       "    .dataframe thead th {\n",
       "        text-align: right;\n",
       "    }\n",
       "</style>\n",
       "<table border=\"1\" class=\"dataframe\">\n",
       "  <thead>\n",
       "    <tr style=\"text-align: right;\">\n",
       "      <th></th>\n",
       "      <th>age</th>\n",
       "      <th>job</th>\n",
       "      <th>marital</th>\n",
       "      <th>education</th>\n",
       "      <th>default</th>\n",
       "      <th>balance</th>\n",
       "      <th>housing</th>\n",
       "      <th>loan</th>\n",
       "      <th>contact</th>\n",
       "      <th>day</th>\n",
       "      <th>month</th>\n",
       "      <th>duration</th>\n",
       "      <th>campaign</th>\n",
       "      <th>pdays</th>\n",
       "      <th>previous</th>\n",
       "      <th>poutcome</th>\n",
       "      <th>y</th>\n",
       "    </tr>\n",
       "  </thead>\n",
       "  <tbody>\n",
       "    <tr>\n",
       "      <th>0</th>\n",
       "      <td>58</td>\n",
       "      <td>11.0</td>\n",
       "      <td>2</td>\n",
       "      <td>3</td>\n",
       "      <td>0</td>\n",
       "      <td>2143</td>\n",
       "      <td>1</td>\n",
       "      <td>0</td>\n",
       "      <td>1</td>\n",
       "      <td>5</td>\n",
       "      <td>12</td>\n",
       "      <td>261</td>\n",
       "      <td>1</td>\n",
       "      <td>-1</td>\n",
       "      <td>0</td>\n",
       "      <td>2</td>\n",
       "      <td>0</td>\n",
       "    </tr>\n",
       "    <tr>\n",
       "      <th>1</th>\n",
       "      <td>44</td>\n",
       "      <td>5.0</td>\n",
       "      <td>0</td>\n",
       "      <td>2</td>\n",
       "      <td>0</td>\n",
       "      <td>29</td>\n",
       "      <td>1</td>\n",
       "      <td>0</td>\n",
       "      <td>1</td>\n",
       "      <td>5</td>\n",
       "      <td>12</td>\n",
       "      <td>151</td>\n",
       "      <td>1</td>\n",
       "      <td>-1</td>\n",
       "      <td>0</td>\n",
       "      <td>2</td>\n",
       "      <td>0</td>\n",
       "    </tr>\n",
       "    <tr>\n",
       "      <th>2</th>\n",
       "      <td>33</td>\n",
       "      <td>10.0</td>\n",
       "      <td>2</td>\n",
       "      <td>2</td>\n",
       "      <td>0</td>\n",
       "      <td>2</td>\n",
       "      <td>1</td>\n",
       "      <td>1</td>\n",
       "      <td>1</td>\n",
       "      <td>5</td>\n",
       "      <td>12</td>\n",
       "      <td>76</td>\n",
       "      <td>1</td>\n",
       "      <td>-1</td>\n",
       "      <td>0</td>\n",
       "      <td>2</td>\n",
       "      <td>0</td>\n",
       "    </tr>\n",
       "    <tr>\n",
       "      <th>3</th>\n",
       "      <td>47</td>\n",
       "      <td>4.0</td>\n",
       "      <td>2</td>\n",
       "      <td>0</td>\n",
       "      <td>0</td>\n",
       "      <td>1506</td>\n",
       "      <td>1</td>\n",
       "      <td>0</td>\n",
       "      <td>1</td>\n",
       "      <td>5</td>\n",
       "      <td>12</td>\n",
       "      <td>92</td>\n",
       "      <td>1</td>\n",
       "      <td>-1</td>\n",
       "      <td>0</td>\n",
       "      <td>2</td>\n",
       "      <td>0</td>\n",
       "    </tr>\n",
       "    <tr>\n",
       "      <th>4</th>\n",
       "      <td>33</td>\n",
       "      <td>1.0</td>\n",
       "      <td>0</td>\n",
       "      <td>0</td>\n",
       "      <td>0</td>\n",
       "      <td>1</td>\n",
       "      <td>0</td>\n",
       "      <td>0</td>\n",
       "      <td>1</td>\n",
       "      <td>5</td>\n",
       "      <td>12</td>\n",
       "      <td>198</td>\n",
       "      <td>1</td>\n",
       "      <td>-1</td>\n",
       "      <td>0</td>\n",
       "      <td>2</td>\n",
       "      <td>0</td>\n",
       "    </tr>\n",
       "    <tr>\n",
       "      <th>...</th>\n",
       "      <td>...</td>\n",
       "      <td>...</td>\n",
       "      <td>...</td>\n",
       "      <td>...</td>\n",
       "      <td>...</td>\n",
       "      <td>...</td>\n",
       "      <td>...</td>\n",
       "      <td>...</td>\n",
       "      <td>...</td>\n",
       "      <td>...</td>\n",
       "      <td>...</td>\n",
       "      <td>...</td>\n",
       "      <td>...</td>\n",
       "      <td>...</td>\n",
       "      <td>...</td>\n",
       "      <td>...</td>\n",
       "      <td>...</td>\n",
       "    </tr>\n",
       "    <tr>\n",
       "      <th>45206</th>\n",
       "      <td>51</td>\n",
       "      <td>5.0</td>\n",
       "      <td>2</td>\n",
       "      <td>3</td>\n",
       "      <td>0</td>\n",
       "      <td>825</td>\n",
       "      <td>0</td>\n",
       "      <td>0</td>\n",
       "      <td>2</td>\n",
       "      <td>17</td>\n",
       "      <td>6</td>\n",
       "      <td>977</td>\n",
       "      <td>3</td>\n",
       "      <td>-1</td>\n",
       "      <td>0</td>\n",
       "      <td>2</td>\n",
       "      <td>1</td>\n",
       "    </tr>\n",
       "    <tr>\n",
       "      <th>45207</th>\n",
       "      <td>71</td>\n",
       "      <td>7.0</td>\n",
       "      <td>1</td>\n",
       "      <td>1</td>\n",
       "      <td>0</td>\n",
       "      <td>1729</td>\n",
       "      <td>0</td>\n",
       "      <td>0</td>\n",
       "      <td>2</td>\n",
       "      <td>17</td>\n",
       "      <td>6</td>\n",
       "      <td>456</td>\n",
       "      <td>2</td>\n",
       "      <td>-1</td>\n",
       "      <td>0</td>\n",
       "      <td>2</td>\n",
       "      <td>1</td>\n",
       "    </tr>\n",
       "    <tr>\n",
       "      <th>45208</th>\n",
       "      <td>72</td>\n",
       "      <td>7.0</td>\n",
       "      <td>2</td>\n",
       "      <td>2</td>\n",
       "      <td>0</td>\n",
       "      <td>5715</td>\n",
       "      <td>0</td>\n",
       "      <td>0</td>\n",
       "      <td>2</td>\n",
       "      <td>17</td>\n",
       "      <td>6</td>\n",
       "      <td>1127</td>\n",
       "      <td>5</td>\n",
       "      <td>184</td>\n",
       "      <td>3</td>\n",
       "      <td>3</td>\n",
       "      <td>1</td>\n",
       "    </tr>\n",
       "    <tr>\n",
       "      <th>45209</th>\n",
       "      <td>57</td>\n",
       "      <td>4.0</td>\n",
       "      <td>2</td>\n",
       "      <td>2</td>\n",
       "      <td>0</td>\n",
       "      <td>668</td>\n",
       "      <td>0</td>\n",
       "      <td>0</td>\n",
       "      <td>0</td>\n",
       "      <td>17</td>\n",
       "      <td>6</td>\n",
       "      <td>508</td>\n",
       "      <td>4</td>\n",
       "      <td>-1</td>\n",
       "      <td>0</td>\n",
       "      <td>2</td>\n",
       "      <td>0</td>\n",
       "    </tr>\n",
       "    <tr>\n",
       "      <th>45210</th>\n",
       "      <td>37</td>\n",
       "      <td>10.0</td>\n",
       "      <td>2</td>\n",
       "      <td>2</td>\n",
       "      <td>0</td>\n",
       "      <td>2971</td>\n",
       "      <td>0</td>\n",
       "      <td>0</td>\n",
       "      <td>2</td>\n",
       "      <td>17</td>\n",
       "      <td>6</td>\n",
       "      <td>361</td>\n",
       "      <td>2</td>\n",
       "      <td>188</td>\n",
       "      <td>11</td>\n",
       "      <td>1</td>\n",
       "      <td>0</td>\n",
       "    </tr>\n",
       "  </tbody>\n",
       "</table>\n",
       "<p>45211 rows × 17 columns</p>\n",
       "</div>"
      ],
      "text/plain": [
       "       age   job  marital  education  default  balance  housing  loan  \\\n",
       "0       58  11.0        2          3        0     2143        1     0   \n",
       "1       44   5.0        0          2        0       29        1     0   \n",
       "2       33  10.0        2          2        0        2        1     1   \n",
       "3       47   4.0        2          0        0     1506        1     0   \n",
       "4       33   1.0        0          0        0        1        0     0   \n",
       "...    ...   ...      ...        ...      ...      ...      ...   ...   \n",
       "45206   51   5.0        2          3        0      825        0     0   \n",
       "45207   71   7.0        1          1        0     1729        0     0   \n",
       "45208   72   7.0        2          2        0     5715        0     0   \n",
       "45209   57   4.0        2          2        0      668        0     0   \n",
       "45210   37  10.0        2          2        0     2971        0     0   \n",
       "\n",
       "       contact  day  month  duration  campaign  pdays  previous  poutcome  y  \n",
       "0            1    5     12       261         1     -1         0         2  0  \n",
       "1            1    5     12       151         1     -1         0         2  0  \n",
       "2            1    5     12        76         1     -1         0         2  0  \n",
       "3            1    5     12        92         1     -1         0         2  0  \n",
       "4            1    5     12       198         1     -1         0         2  0  \n",
       "...        ...  ...    ...       ...       ...    ...       ...       ... ..  \n",
       "45206        2   17      6       977         3     -1         0         2  1  \n",
       "45207        2   17      6       456         2     -1         0         2  1  \n",
       "45208        2   17      6      1127         5    184         3         3  1  \n",
       "45209        0   17      6       508         4     -1         0         2  0  \n",
       "45210        2   17      6       361         2    188        11         1  0  \n",
       "\n",
       "[45211 rows x 17 columns]"
      ]
     },
     "execution_count": 23,
     "metadata": {},
     "output_type": "execute_result"
    }
   ],
   "source": [
    "df"
   ]
  },
  {
   "cell_type": "markdown",
   "id": "0651c0a8",
   "metadata": {
    "id": "0651c0a8"
   },
   "source": [
    "## 3. Correlation and Heat Map"
   ]
  },
  {
   "cell_type": "code",
   "execution_count": 24,
   "id": "413c3ca6",
   "metadata": {
    "colab": {
     "base_uri": "https://localhost:8080/",
     "height": 634
    },
    "id": "413c3ca6",
    "outputId": "7da3993d-51e9-4c20-94b0-7e24ac2fb3c8",
    "scrolled": false
   },
   "outputs": [
    {
     "data": {
      "text/html": [
       "<div>\n",
       "<style scoped>\n",
       "    .dataframe tbody tr th:only-of-type {\n",
       "        vertical-align: middle;\n",
       "    }\n",
       "\n",
       "    .dataframe tbody tr th {\n",
       "        vertical-align: top;\n",
       "    }\n",
       "\n",
       "    .dataframe thead th {\n",
       "        text-align: right;\n",
       "    }\n",
       "</style>\n",
       "<table border=\"1\" class=\"dataframe\">\n",
       "  <thead>\n",
       "    <tr style=\"text-align: right;\">\n",
       "      <th></th>\n",
       "      <th>age</th>\n",
       "      <th>job</th>\n",
       "      <th>marital</th>\n",
       "      <th>education</th>\n",
       "      <th>default</th>\n",
       "      <th>balance</th>\n",
       "      <th>housing</th>\n",
       "      <th>loan</th>\n",
       "      <th>contact</th>\n",
       "      <th>day</th>\n",
       "      <th>month</th>\n",
       "      <th>duration</th>\n",
       "      <th>campaign</th>\n",
       "      <th>pdays</th>\n",
       "      <th>previous</th>\n",
       "      <th>poutcome</th>\n",
       "      <th>y</th>\n",
       "    </tr>\n",
       "  </thead>\n",
       "  <tbody>\n",
       "    <tr>\n",
       "      <th>age</th>\n",
       "      <td>1.000000</td>\n",
       "      <td>0.078259</td>\n",
       "      <td>0.376104</td>\n",
       "      <td>-0.173615</td>\n",
       "      <td>-0.017879</td>\n",
       "      <td>0.097783</td>\n",
       "      <td>-0.185513</td>\n",
       "      <td>-0.015655</td>\n",
       "      <td>-0.122114</td>\n",
       "      <td>-0.009120</td>\n",
       "      <td>-0.086378</td>\n",
       "      <td>-0.004648</td>\n",
       "      <td>0.004760</td>\n",
       "      <td>-0.023758</td>\n",
       "      <td>0.001288</td>\n",
       "      <td>0.020678</td>\n",
       "      <td>0.025155</td>\n",
       "    </tr>\n",
       "    <tr>\n",
       "      <th>job</th>\n",
       "      <td>0.078259</td>\n",
       "      <td>1.000000</td>\n",
       "      <td>0.035643</td>\n",
       "      <td>0.376480</td>\n",
       "      <td>0.008913</td>\n",
       "      <td>0.067506</td>\n",
       "      <td>-0.063879</td>\n",
       "      <td>-0.015011</td>\n",
       "      <td>0.064248</td>\n",
       "      <td>0.022594</td>\n",
       "      <td>-0.027862</td>\n",
       "      <td>0.003221</td>\n",
       "      <td>0.023540</td>\n",
       "      <td>-0.023232</td>\n",
       "      <td>0.006032</td>\n",
       "      <td>0.007397</td>\n",
       "      <td>0.016835</td>\n",
       "    </tr>\n",
       "    <tr>\n",
       "      <th>marital</th>\n",
       "      <td>0.376104</td>\n",
       "      <td>0.035643</td>\n",
       "      <td>1.000000</td>\n",
       "      <td>-0.137510</td>\n",
       "      <td>-0.009584</td>\n",
       "      <td>0.020602</td>\n",
       "      <td>0.020202</td>\n",
       "      <td>0.046738</td>\n",
       "      <td>-0.058796</td>\n",
       "      <td>0.007701</td>\n",
       "      <td>0.022085</td>\n",
       "      <td>-0.022895</td>\n",
       "      <td>0.029121</td>\n",
       "      <td>-0.029490</td>\n",
       "      <td>-0.015676</td>\n",
       "      <td>0.007471</td>\n",
       "      <td>-0.065668</td>\n",
       "    </tr>\n",
       "    <tr>\n",
       "      <th>education</th>\n",
       "      <td>-0.173615</td>\n",
       "      <td>0.376480</td>\n",
       "      <td>-0.137510</td>\n",
       "      <td>1.000000</td>\n",
       "      <td>-0.009035</td>\n",
       "      <td>0.050572</td>\n",
       "      <td>-0.038689</td>\n",
       "      <td>0.004307</td>\n",
       "      <td>0.156922</td>\n",
       "      <td>0.021661</td>\n",
       "      <td>-0.046916</td>\n",
       "      <td>0.002554</td>\n",
       "      <td>0.000194</td>\n",
       "      <td>0.007092</td>\n",
       "      <td>0.025295</td>\n",
       "      <td>-0.009235</td>\n",
       "      <td>0.051341</td>\n",
       "    </tr>\n",
       "    <tr>\n",
       "      <th>default</th>\n",
       "      <td>-0.017879</td>\n",
       "      <td>0.008913</td>\n",
       "      <td>-0.009584</td>\n",
       "      <td>-0.009035</td>\n",
       "      <td>1.000000</td>\n",
       "      <td>-0.066745</td>\n",
       "      <td>-0.006025</td>\n",
       "      <td>0.077234</td>\n",
       "      <td>-0.000961</td>\n",
       "      <td>0.009424</td>\n",
       "      <td>0.015682</td>\n",
       "      <td>-0.010021</td>\n",
       "      <td>0.016822</td>\n",
       "      <td>-0.029979</td>\n",
       "      <td>-0.018329</td>\n",
       "      <td>0.022274</td>\n",
       "      <td>-0.022419</td>\n",
       "    </tr>\n",
       "    <tr>\n",
       "      <th>balance</th>\n",
       "      <td>0.097783</td>\n",
       "      <td>0.067506</td>\n",
       "      <td>0.020602</td>\n",
       "      <td>0.050572</td>\n",
       "      <td>-0.066745</td>\n",
       "      <td>1.000000</td>\n",
       "      <td>-0.068768</td>\n",
       "      <td>-0.084350</td>\n",
       "      <td>-0.002844</td>\n",
       "      <td>0.004503</td>\n",
       "      <td>-0.093798</td>\n",
       "      <td>0.021560</td>\n",
       "      <td>-0.014578</td>\n",
       "      <td>0.003435</td>\n",
       "      <td>0.016674</td>\n",
       "      <td>-0.004008</td>\n",
       "      <td>0.052838</td>\n",
       "    </tr>\n",
       "    <tr>\n",
       "      <th>housing</th>\n",
       "      <td>-0.185513</td>\n",
       "      <td>-0.063879</td>\n",
       "      <td>0.020202</td>\n",
       "      <td>-0.038689</td>\n",
       "      <td>-0.006025</td>\n",
       "      <td>-0.068768</td>\n",
       "      <td>1.000000</td>\n",
       "      <td>0.041323</td>\n",
       "      <td>-0.089783</td>\n",
       "      <td>-0.027982</td>\n",
       "      <td>0.244022</td>\n",
       "      <td>0.005075</td>\n",
       "      <td>-0.023599</td>\n",
       "      <td>0.124178</td>\n",
       "      <td>0.037076</td>\n",
       "      <td>-0.134047</td>\n",
       "      <td>-0.139173</td>\n",
       "    </tr>\n",
       "    <tr>\n",
       "      <th>loan</th>\n",
       "      <td>-0.015655</td>\n",
       "      <td>-0.015011</td>\n",
       "      <td>0.046738</td>\n",
       "      <td>0.004307</td>\n",
       "      <td>0.077234</td>\n",
       "      <td>-0.084350</td>\n",
       "      <td>0.041323</td>\n",
       "      <td>1.000000</td>\n",
       "      <td>0.015964</td>\n",
       "      <td>0.011370</td>\n",
       "      <td>0.014244</td>\n",
       "      <td>-0.012412</td>\n",
       "      <td>0.009980</td>\n",
       "      <td>-0.022754</td>\n",
       "      <td>-0.011043</td>\n",
       "      <td>-0.009605</td>\n",
       "      <td>-0.068185</td>\n",
       "    </tr>\n",
       "    <tr>\n",
       "      <th>contact</th>\n",
       "      <td>-0.122114</td>\n",
       "      <td>0.064248</td>\n",
       "      <td>-0.058796</td>\n",
       "      <td>0.156922</td>\n",
       "      <td>-0.000961</td>\n",
       "      <td>-0.002844</td>\n",
       "      <td>-0.089783</td>\n",
       "      <td>0.015964</td>\n",
       "      <td>1.000000</td>\n",
       "      <td>0.006302</td>\n",
       "      <td>-0.118184</td>\n",
       "      <td>0.029350</td>\n",
       "      <td>-0.046971</td>\n",
       "      <td>0.170654</td>\n",
       "      <td>0.091911</td>\n",
       "      <td>-0.142421</td>\n",
       "      <td>0.100822</td>\n",
       "    </tr>\n",
       "    <tr>\n",
       "      <th>day</th>\n",
       "      <td>-0.009120</td>\n",
       "      <td>0.022594</td>\n",
       "      <td>0.007701</td>\n",
       "      <td>0.021661</td>\n",
       "      <td>0.009424</td>\n",
       "      <td>0.004503</td>\n",
       "      <td>-0.027982</td>\n",
       "      <td>0.011370</td>\n",
       "      <td>0.006302</td>\n",
       "      <td>1.000000</td>\n",
       "      <td>-0.043602</td>\n",
       "      <td>-0.030206</td>\n",
       "      <td>0.162490</td>\n",
       "      <td>-0.093044</td>\n",
       "      <td>-0.051710</td>\n",
       "      <td>0.064721</td>\n",
       "      <td>-0.028348</td>\n",
       "    </tr>\n",
       "    <tr>\n",
       "      <th>month</th>\n",
       "      <td>-0.086378</td>\n",
       "      <td>-0.027862</td>\n",
       "      <td>0.022085</td>\n",
       "      <td>-0.046916</td>\n",
       "      <td>0.015682</td>\n",
       "      <td>-0.093798</td>\n",
       "      <td>0.244022</td>\n",
       "      <td>0.014244</td>\n",
       "      <td>-0.118184</td>\n",
       "      <td>-0.043602</td>\n",
       "      <td>1.000000</td>\n",
       "      <td>-0.010123</td>\n",
       "      <td>0.097368</td>\n",
       "      <td>-0.074225</td>\n",
       "      <td>-0.098699</td>\n",
       "      <td>0.086150</td>\n",
       "      <td>-0.150419</td>\n",
       "    </tr>\n",
       "    <tr>\n",
       "      <th>duration</th>\n",
       "      <td>-0.004648</td>\n",
       "      <td>0.003221</td>\n",
       "      <td>-0.022895</td>\n",
       "      <td>0.002554</td>\n",
       "      <td>-0.010021</td>\n",
       "      <td>0.021560</td>\n",
       "      <td>0.005075</td>\n",
       "      <td>-0.012412</td>\n",
       "      <td>0.029350</td>\n",
       "      <td>-0.030206</td>\n",
       "      <td>-0.010123</td>\n",
       "      <td>1.000000</td>\n",
       "      <td>-0.084570</td>\n",
       "      <td>-0.001565</td>\n",
       "      <td>0.001203</td>\n",
       "      <td>0.029232</td>\n",
       "      <td>0.394521</td>\n",
       "    </tr>\n",
       "    <tr>\n",
       "      <th>campaign</th>\n",
       "      <td>0.004760</td>\n",
       "      <td>0.023540</td>\n",
       "      <td>0.029121</td>\n",
       "      <td>0.000194</td>\n",
       "      <td>0.016822</td>\n",
       "      <td>-0.014578</td>\n",
       "      <td>-0.023599</td>\n",
       "      <td>0.009980</td>\n",
       "      <td>-0.046971</td>\n",
       "      <td>0.162490</td>\n",
       "      <td>0.097368</td>\n",
       "      <td>-0.084570</td>\n",
       "      <td>1.000000</td>\n",
       "      <td>-0.088628</td>\n",
       "      <td>-0.032855</td>\n",
       "      <td>0.071612</td>\n",
       "      <td>-0.073172</td>\n",
       "    </tr>\n",
       "    <tr>\n",
       "      <th>pdays</th>\n",
       "      <td>-0.023758</td>\n",
       "      <td>-0.023232</td>\n",
       "      <td>-0.029490</td>\n",
       "      <td>0.007092</td>\n",
       "      <td>-0.029979</td>\n",
       "      <td>0.003435</td>\n",
       "      <td>0.124178</td>\n",
       "      <td>-0.022754</td>\n",
       "      <td>0.170654</td>\n",
       "      <td>-0.093044</td>\n",
       "      <td>-0.074225</td>\n",
       "      <td>-0.001565</td>\n",
       "      <td>-0.088628</td>\n",
       "      <td>1.000000</td>\n",
       "      <td>0.454820</td>\n",
       "      <td>-0.697576</td>\n",
       "      <td>0.103621</td>\n",
       "    </tr>\n",
       "    <tr>\n",
       "      <th>previous</th>\n",
       "      <td>0.001288</td>\n",
       "      <td>0.006032</td>\n",
       "      <td>-0.015676</td>\n",
       "      <td>0.025295</td>\n",
       "      <td>-0.018329</td>\n",
       "      <td>0.016674</td>\n",
       "      <td>0.037076</td>\n",
       "      <td>-0.011043</td>\n",
       "      <td>0.091911</td>\n",
       "      <td>-0.051710</td>\n",
       "      <td>-0.098699</td>\n",
       "      <td>0.001203</td>\n",
       "      <td>-0.032855</td>\n",
       "      <td>0.454820</td>\n",
       "      <td>1.000000</td>\n",
       "      <td>-0.358357</td>\n",
       "      <td>0.093236</td>\n",
       "    </tr>\n",
       "    <tr>\n",
       "      <th>poutcome</th>\n",
       "      <td>0.020678</td>\n",
       "      <td>0.007397</td>\n",
       "      <td>0.007471</td>\n",
       "      <td>-0.009235</td>\n",
       "      <td>0.022274</td>\n",
       "      <td>-0.004008</td>\n",
       "      <td>-0.134047</td>\n",
       "      <td>-0.009605</td>\n",
       "      <td>-0.142421</td>\n",
       "      <td>0.064721</td>\n",
       "      <td>0.086150</td>\n",
       "      <td>0.029232</td>\n",
       "      <td>0.071612</td>\n",
       "      <td>-0.697576</td>\n",
       "      <td>-0.358357</td>\n",
       "      <td>1.000000</td>\n",
       "      <td>0.063098</td>\n",
       "    </tr>\n",
       "    <tr>\n",
       "      <th>y</th>\n",
       "      <td>0.025155</td>\n",
       "      <td>0.016835</td>\n",
       "      <td>-0.065668</td>\n",
       "      <td>0.051341</td>\n",
       "      <td>-0.022419</td>\n",
       "      <td>0.052838</td>\n",
       "      <td>-0.139173</td>\n",
       "      <td>-0.068185</td>\n",
       "      <td>0.100822</td>\n",
       "      <td>-0.028348</td>\n",
       "      <td>-0.150419</td>\n",
       "      <td>0.394521</td>\n",
       "      <td>-0.073172</td>\n",
       "      <td>0.103621</td>\n",
       "      <td>0.093236</td>\n",
       "      <td>0.063098</td>\n",
       "      <td>1.000000</td>\n",
       "    </tr>\n",
       "  </tbody>\n",
       "</table>\n",
       "</div>"
      ],
      "text/plain": [
       "                age       job   marital  education   default   balance  \\\n",
       "age        1.000000  0.078259  0.376104  -0.173615 -0.017879  0.097783   \n",
       "job        0.078259  1.000000  0.035643   0.376480  0.008913  0.067506   \n",
       "marital    0.376104  0.035643  1.000000  -0.137510 -0.009584  0.020602   \n",
       "education -0.173615  0.376480 -0.137510   1.000000 -0.009035  0.050572   \n",
       "default   -0.017879  0.008913 -0.009584  -0.009035  1.000000 -0.066745   \n",
       "balance    0.097783  0.067506  0.020602   0.050572 -0.066745  1.000000   \n",
       "housing   -0.185513 -0.063879  0.020202  -0.038689 -0.006025 -0.068768   \n",
       "loan      -0.015655 -0.015011  0.046738   0.004307  0.077234 -0.084350   \n",
       "contact   -0.122114  0.064248 -0.058796   0.156922 -0.000961 -0.002844   \n",
       "day       -0.009120  0.022594  0.007701   0.021661  0.009424  0.004503   \n",
       "month     -0.086378 -0.027862  0.022085  -0.046916  0.015682 -0.093798   \n",
       "duration  -0.004648  0.003221 -0.022895   0.002554 -0.010021  0.021560   \n",
       "campaign   0.004760  0.023540  0.029121   0.000194  0.016822 -0.014578   \n",
       "pdays     -0.023758 -0.023232 -0.029490   0.007092 -0.029979  0.003435   \n",
       "previous   0.001288  0.006032 -0.015676   0.025295 -0.018329  0.016674   \n",
       "poutcome   0.020678  0.007397  0.007471  -0.009235  0.022274 -0.004008   \n",
       "y          0.025155  0.016835 -0.065668   0.051341 -0.022419  0.052838   \n",
       "\n",
       "            housing      loan   contact       day     month  duration  \\\n",
       "age       -0.185513 -0.015655 -0.122114 -0.009120 -0.086378 -0.004648   \n",
       "job       -0.063879 -0.015011  0.064248  0.022594 -0.027862  0.003221   \n",
       "marital    0.020202  0.046738 -0.058796  0.007701  0.022085 -0.022895   \n",
       "education -0.038689  0.004307  0.156922  0.021661 -0.046916  0.002554   \n",
       "default   -0.006025  0.077234 -0.000961  0.009424  0.015682 -0.010021   \n",
       "balance   -0.068768 -0.084350 -0.002844  0.004503 -0.093798  0.021560   \n",
       "housing    1.000000  0.041323 -0.089783 -0.027982  0.244022  0.005075   \n",
       "loan       0.041323  1.000000  0.015964  0.011370  0.014244 -0.012412   \n",
       "contact   -0.089783  0.015964  1.000000  0.006302 -0.118184  0.029350   \n",
       "day       -0.027982  0.011370  0.006302  1.000000 -0.043602 -0.030206   \n",
       "month      0.244022  0.014244 -0.118184 -0.043602  1.000000 -0.010123   \n",
       "duration   0.005075 -0.012412  0.029350 -0.030206 -0.010123  1.000000   \n",
       "campaign  -0.023599  0.009980 -0.046971  0.162490  0.097368 -0.084570   \n",
       "pdays      0.124178 -0.022754  0.170654 -0.093044 -0.074225 -0.001565   \n",
       "previous   0.037076 -0.011043  0.091911 -0.051710 -0.098699  0.001203   \n",
       "poutcome  -0.134047 -0.009605 -0.142421  0.064721  0.086150  0.029232   \n",
       "y         -0.139173 -0.068185  0.100822 -0.028348 -0.150419  0.394521   \n",
       "\n",
       "           campaign     pdays  previous  poutcome         y  \n",
       "age        0.004760 -0.023758  0.001288  0.020678  0.025155  \n",
       "job        0.023540 -0.023232  0.006032  0.007397  0.016835  \n",
       "marital    0.029121 -0.029490 -0.015676  0.007471 -0.065668  \n",
       "education  0.000194  0.007092  0.025295 -0.009235  0.051341  \n",
       "default    0.016822 -0.029979 -0.018329  0.022274 -0.022419  \n",
       "balance   -0.014578  0.003435  0.016674 -0.004008  0.052838  \n",
       "housing   -0.023599  0.124178  0.037076 -0.134047 -0.139173  \n",
       "loan       0.009980 -0.022754 -0.011043 -0.009605 -0.068185  \n",
       "contact   -0.046971  0.170654  0.091911 -0.142421  0.100822  \n",
       "day        0.162490 -0.093044 -0.051710  0.064721 -0.028348  \n",
       "month      0.097368 -0.074225 -0.098699  0.086150 -0.150419  \n",
       "duration  -0.084570 -0.001565  0.001203  0.029232  0.394521  \n",
       "campaign   1.000000 -0.088628 -0.032855  0.071612 -0.073172  \n",
       "pdays     -0.088628  1.000000  0.454820 -0.697576  0.103621  \n",
       "previous  -0.032855  0.454820  1.000000 -0.358357  0.093236  \n",
       "poutcome   0.071612 -0.697576 -0.358357  1.000000  0.063098  \n",
       "y         -0.073172  0.103621  0.093236  0.063098  1.000000  "
      ]
     },
     "execution_count": 24,
     "metadata": {},
     "output_type": "execute_result"
    }
   ],
   "source": [
    "# Finding the correlation\n",
    "df.corr()"
   ]
  },
  {
   "cell_type": "code",
   "execution_count": 25,
   "id": "88ae6cdd",
   "metadata": {
    "colab": {
     "base_uri": "https://localhost:8080/",
     "height": 346
    },
    "id": "88ae6cdd",
    "outputId": "c33a3e13-5a8c-406c-fdd7-9c507c437730"
   },
   "outputs": [
    {
     "data": {
      "text/plain": [
       "<AxesSubplot:>"
      ]
     },
     "execution_count": 25,
     "metadata": {},
     "output_type": "execute_result"
    },
    {
     "data": {
      "image/png": "[encoded data removed]",
      "text/plain": [
       "<Figure size 432x288 with 2 Axes>"
      ]
     },
     "metadata": {
      "needs_background": "light"
     },
     "output_type": "display_data"
    }
   ],
   "source": [
    "# Displaying the Heat Map\n",
    "sns.heatmap(df.corr())"
   ]
  },
  {
   "cell_type": "markdown",
   "id": "0f7049a1",
   "metadata": {
    "id": "0f7049a1"
   },
   "source": [
    "## 4. Training and Testing the Data"
   ]
  },
  {
   "cell_type": "code",
   "execution_count": 26,
   "id": "458d76af",
   "metadata": {
    "id": "458d76af"
   },
   "outputs": [],
   "source": [
    "# training the dataset\n",
    "np.random.seed(3)\n",
    "X = df.drop(\"y\", axis=1)\n",
    "y = df[\"y\"]\n",
    "X_train, X_test, y_train, y_test = train_test_split(X, y, test_size=0.2, random_state=42)"
   ]
  },
  {
   "cell_type": "code",
   "execution_count": 95,
   "id": "799ed644",
   "metadata": {
    "colab": {
     "base_uri": "https://localhost:8080/"
    },
    "id": "799ed644",
    "outputId": "1a1b159d-f2c5-4cfc-cd3f-e91723460763"
   },
   "outputs": [
    {
     "name": "stdout",
     "output_type": "stream",
     "text": [
      "==============================\n",
      "DecisionTreeClassifier\n",
      "****Results****\n",
      "Accuracy: 100.0000%\n",
      "precision_score: \n",
      " 1.0\n",
      "f1_score: \n",
      " 1.0\n",
      "confusion_matrix: \n",
      " [[31970     0]\n",
      " [    0  4198]]\n",
      "log_loss: \n",
      " 9.992007221626413e-16\n",
      "==============================\n",
      "RandomForestClassifier\n",
      "****Results****\n",
      "Accuracy: 99.9972%\n",
      "precision_score: \n",
      " 1.0\n",
      "f1_score: \n",
      " 0.9998808814770698\n",
      "confusion_matrix: \n",
      " [[31970     0]\n",
      " [    1  4197]]\n",
      "log_loss: \n",
      " 0.000954954003399326\n",
      "==============================\n",
      "GradientBoostingClassifier\n",
      "****Results****\n",
      "Accuracy: 91.1165%\n",
      "precision_score: \n",
      " 0.6852200075216247\n",
      "f1_score: \n",
      " 0.5314277380778767\n",
      "confusion_matrix: \n",
      " [[31133   837]\n",
      " [ 2376  1822]]\n",
      "log_loss: \n",
      " 3.0682857172057374\n"
     ]
    },
    {
     "name": "stderr",
     "output_type": "stream",
     "text": [
      "/opt/anaconda3/lib/python3.8/site-packages/sklearn/linear_model/_logistic.py:763: ConvergenceWarning: lbfgs failed to converge (status=1):\n",
      "STOP: TOTAL NO. of ITERATIONS REACHED LIMIT.\n",
      "\n",
      "Increase the number of iterations (max_iter) or scale the data as shown in:\n",
      "    https://scikit-learn.org/stable/modules/preprocessing.html\n",
      "Please also refer to the documentation for alternative solver options:\n",
      "    https://scikit-learn.org/stable/modules/linear_model.html#logistic-regression\n",
      "  n_iter_i = _check_optimize_result(\n"
     ]
    },
    {
     "name": "stdout",
     "output_type": "stream",
     "text": [
      "==============================\n",
      "LogisticRegression\n",
      "****Results****\n",
      "Accuracy: 88.7801%\n",
      "precision_score: \n",
      " 0.5488145048814504\n",
      "f1_score: \n",
      " 0.27947443181818177\n",
      "confusion_matrix: \n",
      " [[31323   647]\n",
      " [ 3411   787]]\n",
      "log_loss: \n",
      " 3.8752176495820865\n",
      "==============================\n",
      "GaussianNB\n",
      "****Results****\n",
      "Accuracy: 85.3655%\n",
      "precision_score: \n",
      " 0.39190523198420535\n",
      "f1_score: \n",
      " 0.4285868509122315\n",
      "confusion_matrix: \n",
      " [[28890  3080]\n",
      " [ 2213  1985]]\n",
      "log_loss: \n",
      " 5.054639632225926\n",
      "==============================\n",
      "SVC\n",
      "****Results****\n",
      "Accuracy: 88.4152%\n",
      "precision_score: \n",
      " 0.5666666666666667\n",
      "f1_score: \n",
      " 0.015969938938468767\n",
      "confusion_matrix: \n",
      " [[31944    26]\n",
      " [ 4164    34]]\n",
      "log_loss: \n",
      " 4.001257849043601\n",
      "==============================\n"
     ]
    }
   ],
   "source": [
    "# Implimenting different models\n",
    "classifiers = [\n",
    "    DecisionTreeClassifier(),\n",
    "    RandomForestClassifier(),\n",
    "    GradientBoostingClassifier(),\n",
    "    LogisticRegression(),\n",
    "    GaussianNB(),\n",
    "    SVC()]\n",
    "\n",
    "# Logging for Visual Comparison\n",
    "log_cols=[\"Classifier\", \"Accuracy\", 'Log Loss']\n",
    "log = pd.DataFrame(columns=log_cols)\n",
    "\n",
    "for clf in classifiers:\n",
    "    clf.fit(X_train, y_train)\n",
    "    name = clf.__class__.__name__\n",
    "    \n",
    "    print(\"=\"*30)\n",
    "    print(name)\n",
    "    try:\n",
    "        print('****Results****')\n",
    "        train_predictions = clf.predict(X_train)\n",
    "        acc = accuracy_score(y_train, train_predictions)\n",
    "        print(\"Accuracy: {:.4%}\".format(acc))\n",
    "        print(\"precision_score: \\n\",precision_score(y_train, train_predictions))\n",
    "        print(\"f1_score: \\n\",f1_score(y_train, train_predictions))\n",
    "        print(\"confusion_matrix: \\n\",confusion_matrix(y_train, train_predictions))\n",
    "        print(\"log_loss: \\n\",log_loss(y_train, train_predictions))\n",
    "        log_entry = pd.DataFrame([[name, acc*100, log_loss(y_train, train_predictions)]], columns=log_cols)\n",
    "        log = log.append(log_entry)\n",
    "    except Exception as e:\n",
    "        print (e)\n",
    "    \n",
    "print(\"=\"*30)"
   ]
  },
  {
   "cell_type": "code",
   "execution_count": 96,
   "id": "8490f6e7",
   "metadata": {
    "colab": {
     "base_uri": "https://localhost:8080/",
     "height": 573
    },
    "id": "8490f6e7",
    "outputId": "9db4f62b-ca1c-4c82-f61e-ec37d480a462"
   },
   "outputs": [
    {
     "data": {
      "image/png": "[encoded data removed]",
      "text/plain": [
       "<Figure size 432x288 with 1 Axes>"
      ]
     },
     "metadata": {
      "needs_background": "light"
     },
     "output_type": "display_data"
    },
    {
     "data": {
      "image/png": "[encoded data removed]",
      "text/plain": [
       "<Figure size 432x288 with 1 Axes>"
      ]
     },
     "metadata": {
      "needs_background": "light"
     },
     "output_type": "display_data"
    }
   ],
   "source": [
    "# Comparison between Classifier Accuracy and Accuracy Percentage \n",
    "sns.set_color_codes(\"muted\")\n",
    "sns.barplot(x='Accuracy', y='Classifier', data=log, color=\"b\")\n",
    "\n",
    "plt.xlabel('Accuracy %')\n",
    "plt.title('Classifier Accuracy')\n",
    "plt.show()\n",
    "\n",
    "sns.set_color_codes(\"muted\")\n",
    "sns.barplot(x='Log Loss', y='Classifier', data=log, color=\"g\")\n",
    "\n",
    "plt.xlabel('Log Loss')\n",
    "plt.title('Classifier Log Loss')\n",
    "plt.show()"
   ]
  },
  {
   "cell_type": "code",
   "execution_count": 97,
   "id": "6e342556",
   "metadata": {},
   "outputs": [
    {
     "name": "stdout",
     "output_type": "stream",
     "text": [
      "==============================\n",
      "DecisionTreeClassifier\n",
      "****Results****\n",
      "Accuracy: 87.8359%\n",
      "precision_score: \n",
      " 0.4958371877890842\n",
      "f1_score: \n",
      " 0.49355432780847147\n",
      "confusion_matrix: \n",
      " [[7407  545]\n",
      " [ 555  536]]\n",
      "log_loss: \n",
      " 4.201381158354662\n",
      "==============================\n",
      "RandomForestClassifier\n",
      "****Results****\n",
      "Accuracy: 90.4014%\n",
      "precision_score: \n",
      " 0.6512890094979648\n",
      "f1_score: \n",
      " 0.525164113785558\n",
      "confusion_matrix: \n",
      " [[7695  257]\n",
      " [ 611  480]]\n",
      "log_loss: \n",
      " 3.315256375906451\n",
      "==============================\n",
      "GradientBoostingClassifier\n",
      "****Results****\n",
      "Accuracy: 90.2908%\n",
      "precision_score: \n",
      " 0.6554744525547446\n",
      "f1_score: \n",
      " 0.5056306306306306\n",
      "confusion_matrix: \n",
      " [[7716  236]\n",
      " [ 642  449]]\n",
      "log_loss: \n",
      " 3.3534484551282886\n",
      "==============================\n",
      "LogisticRegression\n",
      "****Results****\n",
      "Accuracy: 88.4330%\n"
     ]
    },
    {
     "name": "stderr",
     "output_type": "stream",
     "text": [
      "/opt/anaconda3/lib/python3.8/site-packages/sklearn/linear_model/_logistic.py:763: ConvergenceWarning: lbfgs failed to converge (status=1):\n",
      "STOP: TOTAL NO. of ITERATIONS REACHED LIMIT.\n",
      "\n",
      "Increase the number of iterations (max_iter) or scale the data as shown in:\n",
      "    https://scikit-learn.org/stable/modules/preprocessing.html\n",
      "Please also refer to the documentation for alternative solver options:\n",
      "    https://scikit-learn.org/stable/modules/linear_model.html#logistic-regression\n",
      "  n_iter_i = _check_optimize_result(\n"
     ]
    },
    {
     "name": "stdout",
     "output_type": "stream",
     "text": [
      "precision_score: \n",
      " 0.5596816976127321\n",
      "f1_score: \n",
      " 0.28746594005449594\n",
      "confusion_matrix: \n",
      " [[7786  166]\n",
      " [ 880  211]]\n",
      "log_loss: \n",
      " 3.9951003917118197\n",
      "==============================\n",
      "GaussianNB\n",
      "****Results****\n",
      "Accuracy: 84.9386%\n",
      "precision_score: \n",
      " 0.3975812547241119\n",
      "f1_score: \n",
      " 0.43579121789560893\n",
      "confusion_matrix: \n",
      " [[7155  797]\n",
      " [ 565  526]]\n",
      "log_loss: \n",
      " 5.202084565854275\n",
      "==============================\n",
      "SVC\n",
      "****Results****\n",
      "Accuracy: 87.9465%\n",
      "precision_score: \n",
      " 0.5384615384615384\n",
      "f1_score: \n",
      " 0.012681159420289856\n",
      "confusion_matrix: \n",
      " [[7946    6]\n",
      " [1084    7]]\n",
      "log_loss: \n",
      " 4.163139562981005\n",
      "==============================\n"
     ]
    }
   ],
   "source": [
    "# Implimenting different models\n",
    "classifiers = [\n",
    "    DecisionTreeClassifier(),\n",
    "    RandomForestClassifier(),\n",
    "    GradientBoostingClassifier(),\n",
    "    LogisticRegression(),\n",
    "    GaussianNB(),\n",
    "    SVC()]\n",
    "\n",
    "# Logging for Visual Comparison\n",
    "log_cols=[\"Classifier\", \"Accuracy\", 'Log Loss']\n",
    "log = pd.DataFrame(columns=log_cols)\n",
    "\n",
    "for clf in classifiers:\n",
    "    clf.fit(X_train, y_train)\n",
    "    name = clf.__class__.__name__\n",
    "    \n",
    "    print(\"=\"*30)\n",
    "    print(name)\n",
    "    try:\n",
    "        print('****Results****')\n",
    "        train_predictions = clf.predict(X_test)\n",
    "        acc = accuracy_score(y_test, train_predictions)\n",
    "        print(\"Accuracy: {:.4%}\".format(acc))\n",
    "        print(\"precision_score: \\n\",precision_score(y_test, train_predictions))\n",
    "        print(\"f1_score: \\n\",f1_score(y_test, train_predictions))\n",
    "        print(\"confusion_matrix: \\n\",confusion_matrix(y_test, train_predictions))\n",
    "        print(\"log_loss: \\n\",log_loss(y_test, train_predictions))\n",
    "        log_entry = pd.DataFrame([[name, acc*100, log_loss(y_test, train_predictions)]], columns=log_cols)\n",
    "        log = log.append(log_entry)\n",
    "    except Exception as e:\n",
    "        print (e)\n",
    "    \n",
    "print(\"=\"*30)"
   ]
  },
  {
   "cell_type": "markdown",
   "id": "a2a10713",
   "metadata": {},
   "source": [
    "## Oversampling"
   ]
  },
  {
   "cell_type": "code",
   "execution_count": 27,
   "id": "a2e567e5",
   "metadata": {},
   "outputs": [],
   "source": [
    "from sklearn.datasets import make_classification\n",
    "from imblearn.over_sampling import RandomOverSampler\n",
    "from imblearn.under_sampling import RandomUnderSampler\n",
    "from collections import Counter"
   ]
  },
  {
   "cell_type": "code",
   "execution_count": 28,
   "id": "1bf9c15e",
   "metadata": {},
   "outputs": [],
   "source": [
    "ros = RandomOverSampler()\n",
    "X_ros, y_ros = ros.fit_resample(X_train, y_train)"
   ]
  },
  {
   "cell_type": "code",
   "execution_count": 29,
   "id": "6370134d",
   "metadata": {},
   "outputs": [
    {
     "name": "stdout",
     "output_type": "stream",
     "text": [
      "Counter({0: 31970, 1: 31970})\n"
     ]
    }
   ],
   "source": [
    "print(Counter(y_ros))"
   ]
  },
  {
   "cell_type": "markdown",
   "id": "0c248c5b",
   "metadata": {},
   "source": [
    "## Hyperparameter Tuning"
   ]
  },
  {
   "cell_type": "markdown",
   "id": "65ebebef",
   "metadata": {},
   "source": [
    "### 1. Decision Tree"
   ]
  },
  {
   "cell_type": "code",
   "execution_count": 88,
   "id": "c94e2c74",
   "metadata": {},
   "outputs": [],
   "source": [
    "param_dict = {\n",
    "    \"criterion\": ['gini', 'entropy'],\n",
    "    \"max_depth\": range (1,10),\n",
    "    \"min_samples_split\":range (1,10),\n",
    "    \"min_samples_leaf\":range (1,5)\n",
    "}"
   ]
  },
  {
   "cell_type": "code",
   "execution_count": 89,
   "id": "aeb4653f",
   "metadata": {},
   "outputs": [
    {
     "name": "stdout",
     "output_type": "stream",
     "text": [
      "Fitting 5 folds for each of 648 candidates, totalling 3240 fits\n"
     ]
    },
    {
     "name": "stderr",
     "output_type": "stream",
     "text": [
      "/opt/anaconda3/lib/python3.8/site-packages/sklearn/model_selection/_search.py:918: UserWarning: One or more of the test scores are non-finite: [       nan 0.71979981 0.71979981 0.71979981 0.71979981 0.71979981\n",
      " 0.71979981 0.71979981 0.71979981        nan 0.71979981 0.71979981\n",
      " 0.71979981 0.71979981 0.71979981 0.71979981 0.71979981 0.71979981\n",
      "        nan 0.71979981 0.71979981 0.71979981 0.71979981 0.71979981\n",
      " 0.71979981 0.71979981 0.71979981        nan 0.71979981 0.71979981\n",
      " 0.71979981 0.71979981 0.71979981 0.71979981 0.71979981 0.71979981\n",
      "        nan 0.79522488 0.79522488 0.79522488 0.79522488 0.79522488\n",
      " 0.79522488 0.79522488 0.79522488        nan 0.79522488 0.79522488\n",
      " 0.79522488 0.79522488 0.79522488 0.79522488 0.79522488 0.79522488\n",
      "        nan 0.79522488 0.79522488 0.79522488 0.79522488 0.79522488\n",
      " 0.79522488 0.79522488 0.79522488        nan 0.79522488 0.79522488\n",
      " 0.79522488 0.79522488 0.79522488 0.79522488 0.79522488 0.79522488\n",
      "        nan 0.83602388 0.83602388 0.83602388 0.83602388 0.83602388\n",
      " 0.83602388 0.83602388 0.83602388        nan 0.83602388 0.83602388\n",
      " 0.83602388 0.83602388 0.83602388 0.83602388 0.83602388 0.83602388\n",
      "        nan 0.83602388 0.83602388 0.83602388 0.83602388 0.83602388\n",
      " 0.83602388 0.83602388 0.83602388        nan 0.83602388 0.83602388\n",
      " 0.83602388 0.83602388 0.83602388 0.83602388 0.83602388 0.83602388\n",
      "        nan 0.86807235 0.86807235 0.86807235 0.86807235 0.86807235\n",
      " 0.86807235 0.86807235 0.86807235        nan 0.86807235 0.86807235\n",
      " 0.86807235 0.86807235 0.86807235 0.86807235 0.86807235 0.86807235\n",
      "        nan 0.8681037  0.8681037  0.8681037  0.8681037  0.8681037\n",
      " 0.8681037  0.8681037  0.8681037         nan 0.8681037  0.8681037\n",
      " 0.8681037  0.8681037  0.8681037  0.8681037  0.8681037  0.8681037\n",
      "        nan 0.88755917 0.88755917 0.88755917 0.88755917 0.88755917\n",
      " 0.88755917 0.88755917 0.88755917        nan 0.88756348 0.88756348\n",
      " 0.88756348 0.88756348 0.88756348 0.88756348 0.88756348 0.88756348\n",
      "        nan 0.88757205 0.88757205 0.88757205 0.88757205 0.88757205\n",
      " 0.88757205 0.88757205 0.88757205        nan 0.88763689 0.88763689\n",
      " 0.88763689 0.88763689 0.88763689 0.88763689 0.88763689 0.88763689\n",
      "        nan 0.90051776 0.90053741 0.90054903 0.90053741 0.90053511\n",
      " 0.90055476 0.90053511 0.90055299        nan 0.9005237  0.90051038\n",
      " 0.90047507 0.90049302 0.9005237  0.9005237  0.90049243 0.9005237\n",
      "        nan 0.90046461 0.90051383 0.90046461 0.90049588 0.90048256\n",
      " 0.90046461 0.90046461 0.90051383        nan 0.90056696 0.90055441\n",
      " 0.90058568 0.90058568 0.90056696 0.90055441 0.90053569 0.90056696\n",
      "        nan 0.91245811 0.91253157 0.91251319 0.91245503 0.91245724\n",
      " 0.91243917 0.91240832 0.91235813        nan 0.91246077 0.91253101\n",
      " 0.9125235  0.91249378 0.91253341 0.91251428 0.91249433 0.91242474\n",
      "        nan 0.91259673 0.91258186 0.91258968 0.91255586 0.91267242\n",
      " 0.91266579 0.91257555 0.91264579        nan 0.91269898 0.9126392\n",
      " 0.91274771 0.91270121 0.91269223 0.9127227  0.91270642 0.91268384\n",
      "        nan 0.92211166 0.92203217 0.92195591 0.92210609 0.92211963\n",
      " 0.92209157 0.92188272 0.9220303         nan 0.92182436 0.92180346\n",
      " 0.92189511 0.92164141 0.92174634 0.92168814 0.92176471 0.92177687\n",
      "        nan 0.9217528  0.92177814 0.92173251 0.92180956 0.9217254\n",
      " 0.92194079 0.92176602 0.92172864        nan 0.92178853 0.92167393\n",
      " 0.92193576 0.92179624 0.92160717 0.92174515 0.92176224 0.92171531\n",
      "        nan 0.93214864 0.93211212 0.93215152 0.9320201  0.93228428\n",
      " 0.93206062 0.93206881 0.93217418        nan 0.93212178 0.9320498\n",
      " 0.93201179 0.93200305 0.93200035 0.93196847 0.93216126 0.93213578\n",
      "        nan 0.93203601 0.93198206 0.9319959  0.93205454 0.93198169\n",
      " 0.93195086 0.93210613 0.93191593        nan 0.93170577 0.93190273\n",
      " 0.93174434 0.93169074 0.93183531 0.93163356 0.93175915 0.93170478\n",
      "        nan 0.71979981 0.71979981 0.71979981 0.71979981 0.71979981\n",
      " 0.71979981 0.71979981 0.71979981        nan 0.71979981 0.71979981\n",
      " 0.71979981 0.71979981 0.71979981 0.71979981 0.71979981 0.71979981\n",
      "        nan 0.71979981 0.71979981 0.71979981 0.71979981 0.71979981\n",
      " 0.71979981 0.71979981 0.71979981        nan 0.71979981 0.71979981\n",
      " 0.71979981 0.71979981 0.71979981 0.71979981 0.71979981 0.71979981\n",
      "        nan 0.79447896 0.79447896 0.79447896 0.79447896 0.79447896\n",
      " 0.79447896 0.79447896 0.79447896        nan 0.79447896 0.79447896\n",
      " 0.79447896 0.79447896 0.79447896 0.79447896 0.79447896 0.79447896\n",
      "        nan 0.79447896 0.79447896 0.79447896 0.79447896 0.79447896\n",
      " 0.79447896 0.79447896 0.79447896        nan 0.79447896 0.79447896\n",
      " 0.79447896 0.79447896 0.79447896 0.79447896 0.79447896 0.79447896\n",
      "        nan 0.83763264 0.83763264 0.83763264 0.83763264 0.83763264\n",
      " 0.83763264 0.83763264 0.83763264        nan 0.83763264 0.83763264\n",
      " 0.83763264 0.83763264 0.83763264 0.83763264 0.83763264 0.83763264\n",
      "        nan 0.83763264 0.83763264 0.83763264 0.83763264 0.83763264\n",
      " 0.83763264 0.83763264 0.83763264        nan 0.83763264 0.83763264\n",
      " 0.83763264 0.83763264 0.83763264 0.83763264 0.83763264 0.83763264\n",
      "        nan 0.86752296 0.86752296 0.86752296 0.86752296 0.86752296\n",
      " 0.86752296 0.86752296 0.86752296        nan 0.86752296 0.86752296\n",
      " 0.86752296 0.86752296 0.86752296 0.86752296 0.86752296 0.86752296\n",
      "        nan 0.86752296 0.86752296 0.86752296 0.86752296 0.86752296\n",
      " 0.86752296 0.86752296 0.86752296        nan 0.86752296 0.86752296\n",
      " 0.86752296 0.86752296 0.86752296 0.86752296 0.86752296 0.86752296\n",
      "        nan 0.88340107 0.88339729 0.88340107 0.88339729 0.88340107\n",
      " 0.88339729 0.88339729 0.88339729        nan 0.8834652  0.8834652\n",
      " 0.8834652  0.88346142 0.8834652  0.88346142 0.88346142 0.88346142\n",
      "        nan 0.88344105 0.88343727 0.88344105 0.88343727 0.88343727\n",
      " 0.88343727 0.88343727 0.88344105        nan 0.88342896 0.88342518\n",
      " 0.88341223 0.88341223 0.88342896 0.88342518 0.883416   0.88342518\n",
      "        nan 0.89808793 0.89810408 0.89807313 0.89807313 0.89808793\n",
      " 0.89810408 0.89808928 0.89807313        nan 0.8981345  0.8981493\n",
      " 0.8981345  0.89811835 0.89811835 0.89811605 0.8981109  0.89812705\n",
      "        nan 0.89809424 0.89810905 0.89809289 0.89809424 0.89810905\n",
      " 0.89809424 0.89810905 0.89810905        nan 0.89808779 0.89807163\n",
      " 0.8980758  0.89808779 0.89807163 0.89807445 0.89809061 0.8980758\n",
      "        nan 0.91078358 0.91078636 0.91088581 0.91088253 0.91079136\n",
      " 0.91078426 0.91078626 0.91085214        nan 0.91091081 0.91091228\n",
      " 0.91084566 0.91085999 0.91084653 0.91087207 0.91077387 0.91078698\n",
      "        nan 0.91085301 0.91077017 0.91077216 0.91083831 0.91085059\n",
      " 0.91076084 0.91081747 0.91079741        nan 0.91066639 0.91071285\n",
      " 0.91077516 0.91067963 0.91069526 0.91075129 0.91071324 0.91072242\n",
      "        nan 0.92226929 0.92217972 0.92226033 0.92226443 0.92223508\n",
      " 0.92218775 0.92215051 0.92211719        nan 0.92222601 0.92216325\n",
      " 0.92198518 0.92209962 0.92204705 0.92216272 0.92213804 0.9221341\n",
      "        nan 0.92209976 0.92201122 0.92208028 0.92226636 0.92219583\n",
      " 0.92213412 0.92220829 0.92211316        nan 0.92204147 0.92209751\n",
      " 0.92207172 0.92206847 0.9221828  0.9220693  0.92206693 0.92212024\n",
      "        nan 0.93125194 0.93105881 0.93140255 0.93136552 0.93104898\n",
      " 0.93118035 0.93138038 0.93120798        nan 0.9308734  0.93107452\n",
      " 0.93114605 0.93103501 0.93089635 0.93099972 0.93096102 0.9308691\n",
      "        nan 0.93081828 0.93096967 0.93067704 0.93076326 0.93069658\n",
      " 0.93073492 0.93074079 0.93060035        nan 0.93088391 0.93074394\n",
      " 0.93089292 0.93068656 0.93076849 0.93081847 0.93083984 0.93071009]\n",
      "  warnings.warn(\n"
     ]
    },
    {
     "data": {
      "text/plain": [
       "GridSearchCV(cv=5, estimator=DecisionTreeClassifier(), n_jobs=-1,\n",
       "             param_grid={'criterion': ['gini', 'entropy'],\n",
       "                         'max_depth': range(1, 10),\n",
       "                         'min_samples_leaf': range(1, 5),\n",
       "                         'min_samples_split': range(1, 10)},\n",
       "             scoring='roc_auc', verbose=1)"
      ]
     },
     "execution_count": 89,
     "metadata": {},
     "output_type": "execute_result"
    }
   ],
   "source": [
    "grid = GridSearchCV(estimator=DecisionTreeClassifier(),\n",
    "                    param_grid=param_dict,\n",
    "                    cv = 5 ,\n",
    "                    verbose = 1 ,\n",
    "                    scoring = 'roc_auc',\n",
    "                    n_jobs=-1)\n",
    "\n",
    "grid.fit(X_ros,y_ros)"
   ]
  },
  {
   "cell_type": "code",
   "execution_count": 90,
   "id": "912f2544",
   "metadata": {},
   "outputs": [
    {
     "name": "stdout",
     "output_type": "stream",
     "text": [
      "Best Params:  {'criterion': 'gini', 'max_depth': 9, 'min_samples_leaf': 1, 'min_samples_split': 6}\n"
     ]
    }
   ],
   "source": [
    "print('Best Params: ', grid.best_params_)"
   ]
  },
  {
   "cell_type": "code",
   "execution_count": 91,
   "id": "acb3d3ed",
   "metadata": {},
   "outputs": [
    {
     "name": "stdout",
     "output_type": "stream",
     "text": [
      "Best Score:  0.93228427906245\n"
     ]
    }
   ],
   "source": [
    "print('Best Score: ', grid.best_score_)"
   ]
  },
  {
   "cell_type": "code",
   "execution_count": 45,
   "id": "1b45201d",
   "metadata": {},
   "outputs": [],
   "source": [
    "def met(model,X_train1,y_train1,X_test1,y_test1):\n",
    "  model.fit(X_train1,y_train1)\n",
    "\n",
    "  print('................Train .......................')\n",
    "\n",
    "  y_train_pred=model.predict(X_train1)\n",
    "  print(confusion_matrix(y_train1, y_train_pred), \": is the confusion matrix\")\n",
    "  print(accuracy_score(y_train1, y_train_pred), \": is the accuracy score\")\n",
    "  print(precision_score(y_train1, y_train_pred), \": is the precision score\")\n",
    "  print(f1_score(y_train1, y_train_pred), \": is the f1 score\")\n",
    "  print(roc_auc_score(y_train1, y_train_pred), \": is the roc auc score\")\n",
    "  print(log_loss(y_train1, y_train_pred), \": is the logloss\")\n",
    "\n",
    "  print('................Test.......................')\n",
    "\n",
    "  y_pred=model.predict(X_test1)\n",
    "  print(confusion_matrix(y_test1, y_pred), \": is the confusion matrix\")\n",
    "  print(accuracy_score(y_test1, y_pred), \": is the accuracy score\")\n",
    "  print(precision_score(y_test1, y_pred), \": is the precision score\")\n",
    "  print(f1_score(y_test1, y_pred), \": is the f1 score\")\n",
    "  print(roc_auc_score(y_test1, y_pred), \": is the roc auc score\")\n",
    "  print(log_loss(y_test1, y_pred), \": is the logloss\")"
   ]
  },
  {
   "cell_type": "code",
   "execution_count": 93,
   "id": "ab62b4cd",
   "metadata": {},
   "outputs": [],
   "source": [
    "model = DecisionTreeClassifier(criterion = 'gini',\n",
    "                               max_depth = 9,\n",
    "                               min_samples_leaf = 1,\n",
    "                               min_samples_split = 6)"
   ]
  },
  {
   "cell_type": "code",
   "execution_count": 94,
   "id": "72270f65",
   "metadata": {},
   "outputs": [
    {
     "name": "stdout",
     "output_type": "stream",
     "text": [
      "................Train .......................\n",
      "[[27579  4391]\n",
      " [ 3580 28390]] : is the confusion matrix\n",
      "0.8753362527369409 : is the accuracy score\n",
      "0.8660504560568623 : is the precision score\n",
      "0.8768976540902843 : is the f1 score\n",
      "0.8753362527369408 : is the roc auc score\n",
      "4.305788202629795 : is the logloss\n",
      "................Test.......................\n",
      "[[6730 1222]\n",
      " [ 216  875]] : is the confusion matrix\n",
      "0.8409819750082937 : is the accuracy score\n",
      "0.4172627563185503 : is the precision score\n",
      "0.5489335006273526 : is the f1 score\n",
      "0.8241722332159779 : is the roc auc score\n",
      "5.49239605926587 : is the logloss\n"
     ]
    }
   ],
   "source": [
    "met(model,X_ros,y_ros,X_test,y_test)"
   ]
  },
  {
   "cell_type": "markdown",
   "id": "e9a5c937",
   "metadata": {},
   "source": [
    "### 2. Random Forest"
   ]
  },
  {
   "cell_type": "code",
   "execution_count": 104,
   "id": "f738d11f",
   "metadata": {},
   "outputs": [],
   "source": [
    "param_grid = {\n",
    "    'bootstrap': [True],\n",
    "    'max_depth': [15,20],\n",
    "    'min_samples_leaf': [3,4],\n",
    "    'min_samples_split': [3,4],\n",
    "    'n_estimators': [1350,1400,1450,1500,1550,1600,1650]\n",
    "}\n",
    "# Create a based model\n",
    "rf = RandomForestClassifier(max_features = 4, class_weight = 'balanced')\n",
    "# Instantiate the grid search model\n",
    "grid_search = GridSearchCV(estimator = rf,\n",
    "                           param_grid = param_grid, \n",
    "                           cv = 5,\n",
    "                           scoring = 'roc_auc',\n",
    "                           n_jobs = -1, \n",
    "                           verbose = 1)"
   ]
  },
  {
   "cell_type": "code",
   "execution_count": 106,
   "id": "ddeb3be9",
   "metadata": {},
   "outputs": [
    {
     "name": "stdout",
     "output_type": "stream",
     "text": [
      "Fitting 5 folds for each of 56 candidates, totalling 280 fits\n"
     ]
    },
    {
     "name": "stderr",
     "output_type": "stream",
     "text": [
      "/opt/anaconda3/lib/python3.8/site-packages/joblib/externals/loky/process_executor.py:688: UserWarning: A worker stopped while some jobs were given to the executor. This can be caused by a too short worker timeout or by a memory leak.\n",
      "  warnings.warn(\n"
     ]
    },
    {
     "data": {
      "text/plain": [
       "GridSearchCV(cv=5,\n",
       "             estimator=RandomForestClassifier(class_weight='balanced',\n",
       "                                              max_features=4),\n",
       "             n_jobs=-1,\n",
       "             param_grid={'bootstrap': [True], 'max_depth': [15, 20],\n",
       "                         'min_samples_leaf': [3, 4],\n",
       "                         'min_samples_split': [3, 4],\n",
       "                         'n_estimators': [1350, 1400, 1450, 1500, 1550, 1600,\n",
       "                                          1650]},\n",
       "             scoring='roc_auc', verbose=1)"
      ]
     },
     "execution_count": 106,
     "metadata": {},
     "output_type": "execute_result"
    }
   ],
   "source": [
    "grid_search.fit(X_ros,y_ros)"
   ]
  },
  {
   "cell_type": "code",
   "execution_count": 107,
   "id": "861e7654",
   "metadata": {},
   "outputs": [
    {
     "name": "stdout",
     "output_type": "stream",
     "text": [
      "Best Score:  0.9946912030153386\n"
     ]
    }
   ],
   "source": [
    "print('Best Score: ', grid_search.best_score_)"
   ]
  },
  {
   "cell_type": "code",
   "execution_count": 108,
   "id": "f2e23ce7",
   "metadata": {},
   "outputs": [
    {
     "name": "stdout",
     "output_type": "stream",
     "text": [
      "Best Params:  {'bootstrap': True, 'max_depth': 20, 'min_samples_leaf': 3, 'min_samples_split': 3, 'n_estimators': 1500}\n"
     ]
    }
   ],
   "source": [
    "print('Best Params: ', grid_search.best_params_)"
   ]
  },
  {
   "cell_type": "code",
   "execution_count": 109,
   "id": "ef208870",
   "metadata": {},
   "outputs": [],
   "source": [
    "rfc = RandomForestClassifier(bootstrap = True,\n",
    "                               max_depth = 20,\n",
    "                               max_features = 4, \n",
    "                               min_samples_leaf = 3, \n",
    "                               min_samples_split = 3, \n",
    "                               n_estimators = 1500)"
   ]
  },
  {
   "cell_type": "code",
   "execution_count": 110,
   "id": "13bcc03a",
   "metadata": {},
   "outputs": [],
   "source": [
    "rfc.fit(X_ros,y_ros)\n",
    "y_pred=rfc.predict(X_test)"
   ]
  },
  {
   "cell_type": "code",
   "execution_count": 111,
   "id": "775e9c83",
   "metadata": {},
   "outputs": [
    {
     "name": "stdout",
     "output_type": "stream",
     "text": [
      "................Train .......................\n",
      "[[30903  1067]\n",
      " [    7 31963]] : is the confusion matrix\n",
      "0.9832030028151392 : is the accuracy score\n",
      "0.967696033908568 : is the precision score\n",
      "0.983476923076923 : is the f1 score\n",
      "0.9832030028151393 : is the roc auc score\n",
      "0.5801610731716007 : is the logloss\n",
      "................Test.......................\n",
      "[[7263  689]\n",
      " [ 281  810]] : is the confusion matrix\n",
      "0.892734711931881 : is the accuracy score\n",
      "0.5403602401601068 : is the precision score\n",
      "0.6254826254826255 : is the f1 score\n",
      "0.8278966304702643 : is the roc auc score\n",
      "3.7048727220715216 : is the logloss\n"
     ]
    }
   ],
   "source": [
    "met(rfc,X_ros,y_ros,X_test,y_test)"
   ]
  },
  {
   "cell_type": "markdown",
   "id": "60c03b6b",
   "metadata": {},
   "source": [
    "### 3. Logistic Regression"
   ]
  },
  {
   "cell_type": "code",
   "execution_count": 125,
   "id": "pHzFTQK6tdlm",
   "metadata": {
    "id": "pHzFTQK6tdlm"
   },
   "outputs": [],
   "source": [
    "penalty = ['l1', 'l2']\n",
    "C = [0.0001, 0.001, 0.01, 0.1, 1, 10, 100, 1000]\n",
    "class_weight = ['balanced']\n",
    "solver = ['liblinear', 'saga']\n",
    "param_grid = dict(penalty=penalty,\n",
    "                  C=C,\n",
    "                  class_weight=class_weight,\n",
    "                  solver=solver)\n",
    "grid = GridSearchCV(estimator=LogisticRegression(class_weight = 'balanced'),\n",
    "                    param_grid=param_grid,\n",
    "                    scoring='roc_auc',\n",
    "                    verbose=1,\n",
    "                    n_jobs=-1)"
   ]
  },
  {
   "cell_type": "code",
   "execution_count": 126,
   "id": "vjGnFHYztdjW",
   "metadata": {
    "colab": {
     "base_uri": "https://localhost:8080/"
    },
    "id": "vjGnFHYztdjW",
    "outputId": "aec05232-f534-49da-915b-e299595694da"
   },
   "outputs": [
    {
     "name": "stdout",
     "output_type": "stream",
     "text": [
      "Fitting 5 folds for each of 32 candidates, totalling 160 fits\n"
     ]
    }
   ],
   "source": [
    "grid_result = grid.fit(X_ros, y_ros)"
   ]
  },
  {
   "cell_type": "code",
   "execution_count": 127,
   "id": "T3G8xdk9y8kv",
   "metadata": {
    "id": "T3G8xdk9y8kv"
   },
   "outputs": [
    {
     "name": "stdout",
     "output_type": "stream",
     "text": [
      "Best Score:  0.8854824945853113\n"
     ]
    }
   ],
   "source": [
    "print('Best Score: ', grid_result.best_score_)"
   ]
  },
  {
   "cell_type": "code",
   "execution_count": 128,
   "id": "Mc1Kle8MtdbJ",
   "metadata": {
    "id": "Mc1Kle8MtdbJ"
   },
   "outputs": [
    {
     "name": "stdout",
     "output_type": "stream",
     "text": [
      "Best Params:  {'C': 0.1, 'class_weight': 'balanced', 'penalty': 'l1', 'solver': 'liblinear'}\n"
     ]
    }
   ],
   "source": [
    "print('Best Params: ', grid_result.best_params_)"
   ]
  },
  {
   "cell_type": "code",
   "execution_count": 129,
   "id": "Er9a4nQdtdYq",
   "metadata": {
    "id": "Er9a4nQdtdYq"
   },
   "outputs": [],
   "source": [
    "model = LogisticRegression(C=0.1,class_weight='balanced',penalty='l1',solver='liblinear')"
   ]
  },
  {
   "cell_type": "code",
   "execution_count": 130,
   "id": "3jYLq8I8pPL-",
   "metadata": {
    "id": "3jYLq8I8pPL-"
   },
   "outputs": [],
   "source": [
    "model.fit(X_ros,y_ros)\n",
    "y_pred=model.predict(X_test)"
   ]
  },
  {
   "cell_type": "code",
   "execution_count": 131,
   "id": "98d6a7d7",
   "metadata": {
    "scrolled": true
   },
   "outputs": [
    {
     "name": "stdout",
     "output_type": "stream",
     "text": [
      "................Train .......................\n",
      "[[26322  5648]\n",
      " [ 6772 25198]] : is the confusion matrix\n",
      "0.8057553956834532 : is the accuracy score\n",
      "0.8168968423782662 : is the precision score\n",
      "0.8022796739684157 : is the f1 score\n",
      "0.8057553956834533 : is the roc auc score\n",
      "6.709041585096597 : is the logloss\n",
      "................Test.......................\n",
      "[[6520 1432]\n",
      " [ 226  865]] : is the confusion matrix\n",
      "0.8166537653433595 : is the accuracy score\n",
      "0.3765781454070527 : is the precision score\n",
      "0.5106257378984652 : is the f1 score\n",
      "0.8063850564431501 : is the roc auc score\n",
      "6.33268122152847 : is the logloss\n"
     ]
    }
   ],
   "source": [
    "met(model,X_ros,y_ros,X_test,y_test)"
   ]
  },
  {
   "cell_type": "markdown",
   "id": "a22d29ce",
   "metadata": {},
   "source": [
    "### 4. XGboost"
   ]
  },
  {
   "cell_type": "code",
   "execution_count": 35,
   "id": "1d325075",
   "metadata": {},
   "outputs": [],
   "source": [
    "from xgboost import XGBClassifier\n",
    "estimator = XGBClassifier(\n",
    "    objective= 'binary:logistic',\n",
    "    njob = -1,\n",
    "    cv = 5,\n",
    "    scoring = 'roc_auc',\n",
    "    seed=42\n",
    ")"
   ]
  },
  {
   "cell_type": "code",
   "execution_count": 36,
   "id": "62442191",
   "metadata": {},
   "outputs": [],
   "source": [
    "parameters = {\n",
    "    'max_depth': range (2, 10, 1),\n",
    "    'n_estimators': range(60, 220, 40),\n",
    "    'learning_rate': [0.1, 0.01, 0.05],\n",
    "    'scale_pos_weight' : [7.5481,2.7473]\n",
    "}"
   ]
  },
  {
   "cell_type": "code",
   "execution_count": 37,
   "id": "9fe35d0b",
   "metadata": {},
   "outputs": [],
   "source": [
    "grid_search = GridSearchCV(\n",
    "    estimator=estimator,\n",
    "    param_grid=parameters,\n",
    "    verbose=True\n",
    ")"
   ]
  },
  {
   "cell_type": "code",
   "execution_count": 58,
   "id": "2476021e",
   "metadata": {},
   "outputs": [],
   "source": [
    "grid_search.fit(X_ros, y_ros)"
   ]
  },
  {
   "cell_type": "code",
   "execution_count": 40,
   "id": "97eaaf75",
   "metadata": {},
   "outputs": [
    {
     "name": "stdout",
     "output_type": "stream",
     "text": [
      "Best Score:  0.9355020331560837\n"
     ]
    }
   ],
   "source": [
    "print('Best Score: ', grid_search.best_score_)"
   ]
  },
  {
   "cell_type": "code",
   "execution_count": 41,
   "id": "f7e0d368",
   "metadata": {},
   "outputs": [
    {
     "name": "stdout",
     "output_type": "stream",
     "text": [
      "Best Params:  {'learning_rate': 0.1, 'max_depth': 9, 'n_estimators': 180, 'scale_pos_weight': 2.7473}\n"
     ]
    }
   ],
   "source": [
    "print('Best Params: ', grid_search.best_params_)"
   ]
  },
  {
   "cell_type": "code",
   "execution_count": 42,
   "id": "6d0a2b37",
   "metadata": {},
   "outputs": [
    {
     "data": {
      "text/plain": [
       "XGBClassifier(base_score=0.5, booster='gbtree', colsample_bylevel=1,\n",
       "              colsample_bynode=1, colsample_bytree=1, cv=5, gamma=0, gpu_id=-1,\n",
       "              importance_type='gain', interaction_constraints='',\n",
       "              learning_rate=0.1, max_delta_step=0, max_depth=9,\n",
       "              min_child_weight=1, missing=nan, monotone_constraints='()',\n",
       "              n_estimators=180, n_jobs=8, njob=-1, num_parallel_tree=1,\n",
       "              random_state=42, reg_alpha=0, reg_lambda=1,\n",
       "              scale_pos_weight=2.7473, scoring='roc_auc', seed=42, subsample=1,\n",
       "              tree_method='exact', validate_parameters=1, verbosity=None)"
      ]
     },
     "execution_count": 42,
     "metadata": {},
     "output_type": "execute_result"
    }
   ],
   "source": [
    "grid_search.best_estimator_"
   ]
  },
  {
   "cell_type": "code",
   "execution_count": 43,
   "id": "be49999b",
   "metadata": {},
   "outputs": [
    {
     "name": "stdout",
     "output_type": "stream",
     "text": [
      "[22:02:31] WARNING: /opt/concourse/worker/volumes/live/7a2b9f41-3287-451b-6691-43e9a6c0910f/volume/xgboost-split_1619728204606/work/src/learner.cc:1061: Starting in XGBoost 1.3.0, the default evaluation metric used with the objective 'binary:logistic' was changed from 'error' to 'logloss'. Explicitly set eval_metric if you'd like to restore the old behavior.\n"
     ]
    },
    {
     "data": {
      "text/plain": [
       "XGBClassifier(base_score=0.5, booster='gbtree', colsample_bylevel=1,\n",
       "              colsample_bynode=1, colsample_bytree=1, gamma=0, gpu_id=-1,\n",
       "              importance_type='gain', interaction_constraints='',\n",
       "              learning_rate=0.1, max_delta_step=0, max_depth=9,\n",
       "              min_child_weight=1, missing=nan, monotone_constraints='()',\n",
       "              n_estimators=180, n_jobs=8, num_parallel_tree=1, random_state=0,\n",
       "              reg_alpha=0, reg_lambda=1, scale_pos_weight=2.7473, subsample=1,\n",
       "              tree_method='exact', validate_parameters=1, verbosity=None)"
      ]
     },
     "execution_count": 43,
     "metadata": {},
     "output_type": "execute_result"
    }
   ],
   "source": [
    "model = XGBClassifier(learning_rate = 0.1, max_depth=9, n_estimators=180,scale_pos_weight = 2.7473)\n",
    "model.fit(X_ros, y_ros)"
   ]
  },
  {
   "cell_type": "code",
   "execution_count": 46,
   "id": "a845c544",
   "metadata": {},
   "outputs": [
    {
     "name": "stdout",
     "output_type": "stream",
     "text": [
      "[22:02:52] WARNING: /opt/concourse/worker/volumes/live/7a2b9f41-3287-451b-6691-43e9a6c0910f/volume/xgboost-split_1619728204606/work/src/learner.cc:1061: Starting in XGBoost 1.3.0, the default evaluation metric used with the objective 'binary:logistic' was changed from 'error' to 'logloss'. Explicitly set eval_metric if you'd like to restore the old behavior.\n",
      "................Train .......................\n",
      "[[29538  2432]\n",
      " [   12 31958]] : is the confusion matrix\n",
      "0.9617766656240225 : is the accuracy score\n",
      "0.9292817679558011 : is the precision score\n",
      "0.9631705846895721 : is the f1 score\n",
      "0.9617766656240224 : is the roc auc score\n",
      "1.320217612294526 : is the logloss\n",
      "................Test.......................\n",
      "[[6939 1013]\n",
      " [ 188  903]] : is the confusion matrix\n",
      "0.8671900917837001 : is the accuracy score\n",
      "0.471294363256785 : is the precision score\n",
      "0.6005986032590621 : is the f1 score\n",
      "0.8501458452825108 : is the roc auc score\n",
      "4.587181294093169 : is the logloss\n"
     ]
    }
   ],
   "source": [
    "met(model,X_ros,y_ros,X_test,y_test)"
   ]
  },
  {
   "cell_type": "markdown",
   "id": "d521c25a",
   "metadata": {},
   "source": [
    "### 5. Naive Bayes"
   ]
  },
  {
   "cell_type": "code",
   "execution_count": 113,
   "id": "f91c7298",
   "metadata": {},
   "outputs": [],
   "source": [
    "param_grid_nb = {\n",
    "    'var_smoothing': np.logspace(0,-9, num=100)\n",
    "}"
   ]
  },
  {
   "cell_type": "code",
   "execution_count": 114,
   "id": "686e6c4c",
   "metadata": {},
   "outputs": [],
   "source": [
    "from sklearn.naive_bayes import GaussianNB\n",
    "from sklearn.model_selection import GridSearchCV\n",
    "nbModel_grid = GridSearchCV(estimator=GaussianNB(),\n",
    "                            param_grid=param_grid_nb, \n",
    "                            scoring = 'roc_auc',\n",
    "                            verbose=1, \n",
    "                            cv=5, \n",
    "                            n_jobs=-1)"
   ]
  },
  {
   "cell_type": "code",
   "execution_count": 115,
   "id": "86e9f11b",
   "metadata": {},
   "outputs": [
    {
     "name": "stdout",
     "output_type": "stream",
     "text": [
      "Fitting 5 folds for each of 100 candidates, totalling 500 fits\n"
     ]
    },
    {
     "data": {
      "text/plain": [
       "GridSearchCV(cv=5, estimator=GaussianNB(), n_jobs=-1,\n",
       "             param_grid={'var_smoothing': array([1.00000000e+00, 8.11130831e-01, 6.57933225e-01, 5.33669923e-01,\n",
       "       4.32876128e-01, 3.51119173e-01, 2.84803587e-01, 2.31012970e-01,\n",
       "       1.87381742e-01, 1.51991108e-01, 1.23284674e-01, 1.00000000e-01,\n",
       "       8.11130831e-02, 6.57933225e-02, 5.33669923e-02, 4.32876128e-02,\n",
       "       3.51119173e-02, 2.8480358...\n",
       "       1.23284674e-07, 1.00000000e-07, 8.11130831e-08, 6.57933225e-08,\n",
       "       5.33669923e-08, 4.32876128e-08, 3.51119173e-08, 2.84803587e-08,\n",
       "       2.31012970e-08, 1.87381742e-08, 1.51991108e-08, 1.23284674e-08,\n",
       "       1.00000000e-08, 8.11130831e-09, 6.57933225e-09, 5.33669923e-09,\n",
       "       4.32876128e-09, 3.51119173e-09, 2.84803587e-09, 2.31012970e-09,\n",
       "       1.87381742e-09, 1.51991108e-09, 1.23284674e-09, 1.00000000e-09])},\n",
       "             scoring='roc_auc', verbose=1)"
      ]
     },
     "execution_count": 115,
     "metadata": {},
     "output_type": "execute_result"
    }
   ],
   "source": [
    "nbModel_grid.fit(X_ros, y_ros)"
   ]
  },
  {
   "cell_type": "code",
   "execution_count": 116,
   "id": "6046099b",
   "metadata": {},
   "outputs": [
    {
     "name": "stdout",
     "output_type": "stream",
     "text": [
      "GaussianNB(var_smoothing=1.519911082952933e-08)\n"
     ]
    }
   ],
   "source": [
    "print(nbModel_grid.best_estimator_)"
   ]
  },
  {
   "cell_type": "code",
   "execution_count": 117,
   "id": "2383869a",
   "metadata": {},
   "outputs": [
    {
     "name": "stdout",
     "output_type": "stream",
     "text": [
      "Best Score:  0.8345303194688404\n"
     ]
    }
   ],
   "source": [
    "print('Best Score: ', nbModel_grid.best_score_)"
   ]
  },
  {
   "cell_type": "code",
   "execution_count": 118,
   "id": "9f71560a",
   "metadata": {},
   "outputs": [
    {
     "name": "stdout",
     "output_type": "stream",
     "text": [
      "Best Params:  {'var_smoothing': 1.519911082952933e-08}\n"
     ]
    }
   ],
   "source": [
    "print('Best Params: ', nbModel_grid.best_params_)"
   ]
  },
  {
   "cell_type": "code",
   "execution_count": 119,
   "id": "204a9721",
   "metadata": {},
   "outputs": [],
   "source": [
    "model = GaussianNB(var_smoothing=1.519911082952933e-08)"
   ]
  },
  {
   "cell_type": "code",
   "execution_count": 120,
   "id": "7bb1d2f5",
   "metadata": {},
   "outputs": [],
   "source": [
    "model.fit(X_ros,y_ros)\n",
    "y_pred=model.predict(X_test)"
   ]
  },
  {
   "cell_type": "code",
   "execution_count": 121,
   "id": "e8894513",
   "metadata": {},
   "outputs": [
    {
     "name": "stdout",
     "output_type": "stream",
     "text": [
      "................Train .......................\n",
      "[[24690  7280]\n",
      " [ 8287 23683]] : is the confusion matrix\n",
      "0.7565373787926181 : is the accuracy score\n",
      "0.7648806640183444 : is the precision score\n",
      "0.75264169831408 : is the f1 score\n",
      "0.7565373787926182 : is the roc auc score\n",
      "8.408992073957874 : is the logloss\n",
      "................Test.......................\n",
      "[[6103 1849]\n",
      " [ 289  802]] : is the confusion matrix\n",
      "0.7635740351653213 : is the accuracy score\n",
      "0.3025273481705017 : is the precision score\n",
      "0.4286477819347942 : is the f1 score\n",
      "0.7512926435791651 : is the roc auc score\n",
      "8.166027025098693 : is the logloss\n"
     ]
    }
   ],
   "source": [
    "met(model,X_ros,y_ros,X_test,y_test)"
   ]
  },
  {
   "cell_type": "markdown",
   "id": "a64a9c33",
   "metadata": {},
   "source": [
    "## Hyperparameter Metrics :"
   ]
  },
  {
   "cell_type": "code",
   "execution_count": 54,
   "id": "b8f9e5ea",
   "metadata": {},
   "outputs": [
    {
     "name": "stdout",
     "output_type": "stream",
     "text": [
      "==============================\n",
      "DecisionTreeClassifier\n",
      "------------------------------\n",
      "ROC AUC:\t 0.8753049734125744\n",
      "==============================\n",
      "RandomForestClassifier\n",
      "------------------------------\n",
      "ROC AUC:\t 0.9841101032217704\n",
      "==============================\n",
      "LogisticRegression\n",
      "------------------------------\n",
      "ROC AUC:\t 0.8054895214263371\n",
      "[22:49:11] WARNING: /opt/concourse/worker/volumes/live/7a2b9f41-3287-451b-6691-43e9a6c0910f/volume/xgboost-split_1619728204606/work/src/learner.cc:1061: Starting in XGBoost 1.3.0, the default evaluation metric used with the objective 'binary:logistic' was changed from 'error' to 'logloss'. Explicitly set eval_metric if you'd like to restore the old behavior.\n"
     ]
    },
    {
     "name": "stderr",
     "output_type": "stream",
     "text": [
      "/opt/anaconda3/lib/python3.8/site-packages/xgboost/sklearn.py:888: UserWarning: The use of label encoder in XGBClassifier is deprecated and will be removed in a future release. To remove this warning, do the following: 1) Pass option use_label_encoder=False when constructing XGBClassifier object; and 2) Encode your labels (y) as integers starting with 0, i.e. 0, 1, 2, ..., [num_class - 1].\n",
      "  warnings.warn(label_encoder_deprecation_msg, UserWarning)\n"
     ]
    },
    {
     "name": "stdout",
     "output_type": "stream",
     "text": [
      "==============================\n",
      "XGBClassifier\n",
      "------------------------------\n",
      "ROC AUC:\t 0.9617766656240224\n",
      "==============================\n",
      "GaussianNB\n",
      "------------------------------\n",
      "ROC AUC:\t 0.7564279011573349\n",
      "==============================\n"
     ]
    }
   ],
   "source": [
    "#Final models\n",
    "classifiers = [\n",
    "    DecisionTreeClassifier(criterion= 'gini',\n",
    "                               max_depth= 9,\n",
    "                               min_samples_leaf= 1,\n",
    "                               min_samples_split= 6,\n",
    "                               class_weight = \"balanced\"\n",
    "                              ),\n",
    "    RandomForestClassifier(bootstrap = True,\n",
    "                               max_depth = 20,\n",
    "                               max_features = 4, \n",
    "                               min_samples_leaf = 3, \n",
    "                               min_samples_split = 3, \n",
    "                               n_estimators = 1500,\n",
    "                            class_weight = \"balanced\"),\n",
    "    LogisticRegression(C=0.1, class_weight=\"balanced\", penalty='l1', solver='liblinear'),\n",
    "    XGBClassifier(learning_rate = 0.1, max_depth=9, n_estimators=180,scale_pos_weight = 2.7473),\n",
    "    GaussianNB(var_smoothing=1.519911082952933e-08)\n",
    "]\n",
    "\n",
    "# Logging for Visual Comparison\n",
    "log_cols=[\"Classifier\", \"ROC\"]\n",
    "log = pd.DataFrame(columns=log_cols)\n",
    "\n",
    "for clf in classifiers:\n",
    "    clf.fit(X_ros, y_ros)\n",
    "    name = clf.__class__.__name__\n",
    "    \n",
    "    print(\"=\"*30)\n",
    "    print(name)\n",
    "    try:\n",
    "        print(\"-\"*30)\n",
    "        train_predictions_ros = clf.predict(X_ros)\n",
    "        print(\"ROC AUC:\\t\",roc_auc_score(y_ros, train_predictions_ros))\n",
    "        log_entry = pd.DataFrame([[name, roc_auc_score(y_ros, train_predictions_ros)]], columns=log_cols)\n",
    "        log = log.append(log_entry)\n",
    "    except Exception as e:\n",
    "        print (e)\n",
    "    \n",
    "print(\"=\"*30)"
   ]
  },
  {
   "cell_type": "code",
   "execution_count": 55,
   "id": "1407f0e7",
   "metadata": {},
   "outputs": [
    {
     "data": {
      "image/png": "[encoded data removed]",
      "text/plain": [
       "<Figure size 432x288 with 1 Axes>"
      ]
     },
     "metadata": {
      "needs_background": "light"
     },
     "output_type": "display_data"
    }
   ],
   "source": [
    "# Ploting ROC AUC on train data\n",
    "sns.set_color_codes(\"muted\")\n",
    "sns.barplot(x='ROC', y='Classifier', data=log, color=\"r\")\n",
    "\n",
    "plt.xlabel('ROC AUC Score')\n",
    "plt.title('Classifier ROC AUC score on Train data')\n",
    "plt.show()\n"
   ]
  },
  {
   "cell_type": "code",
   "execution_count": 56,
   "id": "48c64a80",
   "metadata": {},
   "outputs": [
    {
     "name": "stdout",
     "output_type": "stream",
     "text": [
      "==============================\n",
      "DecisionTreeClassifier\n",
      "------------------------------\n",
      "ROC AUC:\t 0.8235881835467433\n",
      "==============================\n",
      "RandomForestClassifier\n",
      "------------------------------\n",
      "ROC AUC:\t 0.8268361313619573\n",
      "==============================\n",
      "LogisticRegression\n",
      "------------------------------\n",
      "ROC AUC:\t 0.8063221791795687\n",
      "[22:50:31] WARNING: /opt/concourse/worker/volumes/live/7a2b9f41-3287-451b-6691-43e9a6c0910f/volume/xgboost-split_1619728204606/work/src/learner.cc:1061: Starting in XGBoost 1.3.0, the default evaluation metric used with the objective 'binary:logistic' was changed from 'error' to 'logloss'. Explicitly set eval_metric if you'd like to restore the old behavior.\n"
     ]
    },
    {
     "name": "stderr",
     "output_type": "stream",
     "text": [
      "/opt/anaconda3/lib/python3.8/site-packages/xgboost/sklearn.py:888: UserWarning: The use of label encoder in XGBClassifier is deprecated and will be removed in a future release. To remove this warning, do the following: 1) Pass option use_label_encoder=False when constructing XGBClassifier object; and 2) Encode your labels (y) as integers starting with 0, i.e. 0, 1, 2, ..., [num_class - 1].\n",
      "  warnings.warn(label_encoder_deprecation_msg, UserWarning)\n"
     ]
    },
    {
     "name": "stdout",
     "output_type": "stream",
     "text": [
      "==============================\n",
      "XGBClassifier\n",
      "------------------------------\n",
      "ROC AUC:\t 0.8501458452825108\n",
      "==============================\n",
      "GaussianNB\n",
      "------------------------------\n",
      "ROC AUC:\t 0.7549505903431589\n",
      "==============================\n"
     ]
    }
   ],
   "source": [
    "#Final models\n",
    "classifiers = [\n",
    "    DecisionTreeClassifier(criterion= 'gini',\n",
    "                               max_depth= 9,\n",
    "                               min_samples_leaf= 1,\n",
    "                               min_samples_split= 6,\n",
    "                               class_weight = \"balanced\"\n",
    "                              ),\n",
    "    RandomForestClassifier(bootstrap = True,\n",
    "                               max_depth = 20,\n",
    "                               max_features = 4, \n",
    "                               min_samples_leaf = 3, \n",
    "                               min_samples_split = 3, \n",
    "                               n_estimators = 1500,\n",
    "                            class_weight = \"balanced\"),\n",
    "    LogisticRegression(C=0.1, class_weight=\"balanced\", penalty='l1', solver='liblinear'),\n",
    "    XGBClassifier(learning_rate = 0.1, max_depth=9, n_estimators=180,scale_pos_weight = 2.7473),\n",
    "    GaussianNB(var_smoothing=1.519911082952933e-08)\n",
    "]\n",
    "\n",
    "# Logging for Visual Comparison\n",
    "log_cols=[\"Classifier\", \"ROC\"]\n",
    "log = pd.DataFrame(columns=log_cols)\n",
    "\n",
    "for clf in classifiers:\n",
    "    clf.fit(X_ros, y_ros)\n",
    "    name = clf.__class__.__name__\n",
    "    \n",
    "    print(\"=\"*30)\n",
    "    print(name)\n",
    "    try:\n",
    "        print(\"-\"*30)\n",
    "        train_predictions_ros = clf.predict(X_test)\n",
    "        print(\"ROC AUC:\\t\",roc_auc_score(y_test, train_predictions_ros))\n",
    "        log_entry = pd.DataFrame([[name, roc_auc_score(y_test, train_predictions_ros)]], columns=log_cols)\n",
    "        log = log.append(log_entry)\n",
    "    except Exception as e:\n",
    "        print (e)\n",
    "    \n",
    "print(\"=\"*30)"
   ]
  },
  {
   "cell_type": "code",
   "execution_count": 57,
   "id": "89c29c0d",
   "metadata": {},
   "outputs": [
    {
     "data": {
      "image/png": "[encoded data removed]",
      "text/plain": [
       "<Figure size 432x288 with 1 Axes>"
      ]
     },
     "metadata": {
      "needs_background": "light"
     },
     "output_type": "display_data"
    }
   ],
   "source": [
    "# Ploting ROC AUC on test data\n",
    "sns.set_color_codes(\"muted\")\n",
    "sns.barplot(x='ROC', y='Classifier', data=log, color=\"r\")\n",
    "\n",
    "plt.xlabel('ROC AUC Score')\n",
    "plt.title('Classifier ROC AUC score on Test data')\n",
    "plt.show()"
   ]
  },
  {
   "cell_type": "markdown",
   "id": "75ef173e",
   "metadata": {},
   "source": [
    "# HTML Page"
   ]
  },
  {
   "cell_type": "markdown",
   "id": "64d4a406",
   "metadata": {},
   "source": [
    "### Created a Web Page where one could pass values of \"Age\", \"Balance\", \"Duration\", and \"Poutcome\""
   ]
  },
  {
   "cell_type": "code",
   "execution_count": null,
   "id": "fac3cd1a",
   "metadata": {},
   "outputs": [],
   "source": [
    "del(X_ros['job'])\n",
    "del(X_ros['marital'])\n",
    "del(X_ros['education'])\n",
    "del(X_ros['default'])\n",
    "del(X_ros['housing'])\n",
    "del(X_ros['loan'])\n",
    "del(X_ros['contact'])\n",
    "del(X_ros['day'])\n",
    "del(X_ros['month'])\n",
    "del(X_ros['campaign'])\n",
    "del(X_ros['pdays'])\n",
    "del(X_ros['previous'])\n",
    "del(X_ros['loan'])"
   ]
  },
  {
   "cell_type": "code",
   "execution_count": 33,
   "id": "dcb81c50",
   "metadata": {},
   "outputs": [],
   "source": [
    "del(X_test['job'])\n",
    "del(X_test['marital'])\n",
    "del(X_test['education'])\n",
    "del(X_test['default'])\n",
    "del(X_test['housing'])\n",
    "del(X_test['loan'])\n",
    "del(X_test['contact'])\n",
    "del(X_test['day'])\n",
    "del(X_test['month'])\n",
    "del(X_test['campaign'])\n",
    "del(X_test['pdays'])\n",
    "del(X_test['previous'])\n",
    "del(X_test['loan'])"
   ]
  },
  {
   "cell_type": "code",
   "execution_count": 65,
   "id": "98bc41eb",
   "metadata": {},
   "outputs": [],
   "source": [
    "y_predict= rfc.predict(X_test)"
   ]
  },
  {
   "cell_type": "code",
   "execution_count": 62,
   "id": "9584ec1a",
   "metadata": {},
   "outputs": [],
   "source": [
    "# Using pickle to link with the html page\n",
    "import pickle\n",
    "pickle.dump(xgb,open('output.pkl','wb'))\n",
    "model=pickle.load(open('output.pkl','rb'))"
   ]
  },
  {
   "cell_type": "markdown",
   "id": "kLOHbdfpg0fh",
   "metadata": {
    "id": "kLOHbdfpg0fh"
   },
   "source": [
    "# THE END"
   ]
  }
 ],
 "metadata": {
  "accelerator": "GPU",
  "colab": {
   "name": "Confused_Trio.ipynb",
   "provenance": []
  },
  "kernelspec": {
   "display_name": "Python 3",
   "language": "python",
   "name": "python3"
  },
  "language_info": {
   "codemirror_mode": {
    "name": "ipython",
    "version": 3
   },
   "file_extension": ".py",
   "mimetype": "text/x-python",
   "name": "python",
   "nbconvert_exporter": "python",
   "pygments_lexer": "ipython3",
   "version": "3.8.8"
  }
 },
 "nbformat": 4,
 "nbformat_minor": 5
}
